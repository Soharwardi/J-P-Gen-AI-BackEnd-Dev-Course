{
 "cells": [
  {
   "cell_type": "markdown",
   "id": "2b81dff0",
   "metadata": {},
   "source": [
    "# Problem 1"
   ]
  },
  {
   "cell_type": "code",
   "execution_count": 1,
   "id": "017df8d7",
   "metadata": {},
   "outputs": [
    {
     "name": "stdout",
     "output_type": "stream",
     "text": [
      "Enter a floating number : 2\n",
      "2.0\n"
     ]
    }
   ],
   "source": [
    "print(float(input('Enter a floating number : ' )))"
   ]
  },
  {
   "cell_type": "code",
   "execution_count": 3,
   "id": "71b81287",
   "metadata": {},
   "outputs": [
    {
     "data": {
      "text/plain": [
       "3.43"
      ]
     },
     "execution_count": 3,
     "metadata": {},
     "output_type": "execute_result"
    }
   ],
   "source": [
    "number = 3.43234\n",
    "rounded_number = round(number,2)\n",
    "rounded_number"
   ]
  },
  {
   "cell_type": "code",
   "execution_count": 6,
   "id": "8dc053c0",
   "metadata": {},
   "outputs": [
    {
     "name": "stdout",
     "output_type": "stream",
     "text": [
      "Rounded_number :  3.43   Number :  3.43234\n"
     ]
    }
   ],
   "source": [
    "print('Rounded_number : ', rounded_number , '  Number : ', number)"
   ]
  },
  {
   "cell_type": "code",
   "execution_count": 6,
   "id": "d42d21e9",
   "metadata": {},
   "outputs": [
    {
     "name": "stdout",
     "output_type": "stream",
     "text": [
      "Enter you text here :yasir\n",
      "5\n"
     ]
    }
   ],
   "source": [
    "ad = len(input('Enter you text here : '))\n",
    "print(ad)"
   ]
  },
  {
   "cell_type": "markdown",
   "id": "bdb1daa6",
   "metadata": {},
   "source": [
    "# Problem 2"
   ]
  },
  {
   "cell_type": "code",
   "execution_count": 7,
   "id": "e68b6267",
   "metadata": {},
   "outputs": [
    {
     "name": "stdout",
     "output_type": "stream",
     "text": [
      "Enter you name :kala naag\n",
      "kala naag\n"
     ]
    }
   ],
   "source": [
    "print(input('Enter you name : '))"
   ]
  },
  {
   "cell_type": "code",
   "execution_count": 8,
   "id": "ef7cc170",
   "metadata": {},
   "outputs": [
    {
     "name": "stdout",
     "output_type": "stream",
     "text": [
      "Enter you name :yasir mari\n",
      "YASIR MARI\n"
     ]
    }
   ],
   "source": [
    "print(input('Enter you name : ').upper())"
   ]
  },
  {
   "cell_type": "code",
   "execution_count": 9,
   "id": "cfb3236e",
   "metadata": {},
   "outputs": [
    {
     "name": "stdout",
     "output_type": "stream",
     "text": [
      "Enter you name :YASIR\n",
      "yasir\n"
     ]
    }
   ],
   "source": [
    "print(input('Enter you name : ').lower())"
   ]
  },
  {
   "cell_type": "code",
   "execution_count": 10,
   "id": "3464fdc5",
   "metadata": {},
   "outputs": [
    {
     "name": "stdout",
     "output_type": "stream",
     "text": [
      "Enter you name :yasir\n",
      "Yasir\n"
     ]
    }
   ],
   "source": [
    "print(input('Enter you name : ').capitalize())"
   ]
  },
  {
   "cell_type": "markdown",
   "id": "2a3bafbe",
   "metadata": {},
   "source": [
    "# Problem 3"
   ]
  },
  {
   "cell_type": "code",
   "execution_count": 12,
   "id": "ab7f06c0",
   "metadata": {},
   "outputs": [
    {
     "name": "stdout",
     "output_type": "stream",
     "text": [
      "Enter your sentance :hkhjh\n",
      "hkhjh\n"
     ]
    }
   ],
   "source": [
    "print(input('Enter your sentance : '))"
   ]
  },
  {
   "cell_type": "code",
   "execution_count": 13,
   "id": "91f3c8ca",
   "metadata": {},
   "outputs": [
    {
     "name": "stdout",
     "output_type": "stream",
     "text": [
      "Replace your word : ad\n",
      "ad\n"
     ]
    }
   ],
   "source": [
    "print(input('Replace your word : '))"
   ]
  },
  {
   "cell_type": "code",
   "execution_count": 14,
   "id": "eb7786b2",
   "metadata": {},
   "outputs": [
    {
     "name": "stdout",
     "output_type": "stream",
     "text": [
      "Replace your Word with..... : asd\n",
      "asd\n"
     ]
    }
   ],
   "source": [
    "print(input('Replace your Word with..... : '))"
   ]
  },
  {
   "cell_type": "markdown",
   "id": "19479bdf",
   "metadata": {},
   "source": [
    "# Problem 4"
   ]
  },
  {
   "cell_type": "code",
   "execution_count": 18,
   "id": "62ce48be",
   "metadata": {},
   "outputs": [
    {
     "name": "stdout",
     "output_type": "stream",
     "text": [
      "Enter your age : 7\n",
      "In 10 years, you will be 17 years old.\n"
     ]
    }
   ],
   "source": [
    "ab = int(input('Enter your age : '))\n",
    "print(f'In 10 years, you will be {ab+10} years old.')"
   ]
  },
  {
   "cell_type": "markdown",
   "id": "8ecb2194",
   "metadata": {},
   "source": [
    "# Problem 5"
   ]
  },
  {
   "cell_type": "code",
   "execution_count": 19,
   "id": "0867f11e",
   "metadata": {},
   "outputs": [
    {
     "name": "stdout",
     "output_type": "stream",
     "text": [
      "Please enter you name : e\n",
      "E\n",
      "enter number : 3\n",
      "\"Your favorite number multiplied by 2 is 6\n"
     ]
    }
   ],
   "source": [
    "ad = input('Please enter you name : ')\n",
    "print(ad.upper())\n",
    "my = int(input( \"enter number : \"))\n",
    "print(f'\"Your favorite number multiplied by 2 is {str(my*2)}')"
   ]
  },
  {
   "cell_type": "markdown",
   "id": "f4afdb16",
   "metadata": {},
   "source": [
    "\n",
    "# Problem 6"
   ]
  },
  {
   "cell_type": "code",
   "execution_count": 7,
   "id": "a0fabe61",
   "metadata": {},
   "outputs": [
    {
     "name": "stdout",
     "output_type": "stream",
     "text": [
      "Please enter your first name : asf\n",
      "Please enter your last name : asd\n",
      "Your full name in uppercase is :  ASF  ASD\n",
      "The length of your full name is :  6\n"
     ]
    }
   ],
   "source": [
    "a = input('Please enter your first name : ').upper()\n",
    "b = input('Please enter your last name : ').upper()\n",
    "print(\"Your full name in uppercase is : \", a,\"\",b)\n",
    "print(\"The length of your full name is : \",len(a + b))"
   ]
  },
  {
   "cell_type": "markdown",
   "id": "3c178e44",
   "metadata": {},
   "source": [
    "# Problem 7"
   ]
  },
  {
   "cell_type": "code",
   "execution_count": 24,
   "id": "343e3e8f",
   "metadata": {},
   "outputs": [
    {
     "name": "stdout",
     "output_type": "stream",
     "text": [
      "Please input 1st number : 233.23\n",
      "Please input 2nd number : 21.3123123\n",
      "127.27\n"
     ]
    }
   ],
   "source": [
    "q = float(input('Please input 1st number : '))\n",
    "w = float(input('Please input 2nd number : '))\n",
    "e = round((q+w) / 2,2)\n",
    "print(e)"
   ]
  },
  {
   "cell_type": "markdown",
   "id": "a27ad60e",
   "metadata": {},
   "source": [
    "# Problem 8"
   ]
  },
  {
   "cell_type": "code",
   "execution_count": 33,
   "id": "0da3095d",
   "metadata": {},
   "outputs": [
    {
     "name": "stdout",
     "output_type": "stream",
     "text": [
      "Write a sentance : Yasir Rahim Mari\n",
      " _ Y _ a _ s _ i _ r _   _ R _ a _ h _ i _ m _   _ M _ a _ r _ i _ \n"
     ]
    }
   ],
   "source": [
    "qr = input('Write a sentance : ').replace('', ' _ ')\n",
    "print(qr)"
   ]
  },
  {
   "cell_type": "markdown",
   "id": "1e35c483",
   "metadata": {},
   "source": [
    "# Problem 9"
   ]
  },
  {
   "cell_type": "code",
   "execution_count": 20,
   "id": "1601bdab",
   "metadata": {},
   "outputs": [
    {
     "name": "stdout",
     "output_type": "stream",
     "text": [
      "['This', 'is', 'a', 'sample', 'sentence.']\n",
      "['Alice', 'Bob', 'Charlie', 'David']\n",
      "['2023', '09', '01']\n",
      "['Line 1', 'Line 2', 'Line 3']\n",
      "['www.example.com', 'path', 'to', 'resource']\n"
     ]
    }
   ],
   "source": [
    "# 1. Splitting a sentence\n",
    "sentence = \"This is a sample sentence.\"\n",
    "words = sentence.split()\n",
    "print(words)\n",
    "\n",
    "# 2. Splitting a comma-separated string\n",
    "names = \"Alice,Bob,Charlie,David\"\n",
    "names_list = names.split(',')\n",
    "print(names_list)\n",
    "\n",
    "# 3. Splitting a date\n",
    "date = \"2023-09-01\"\n",
    "date_parts = date.split('-')\n",
    "print(date_parts)\n",
    "\n",
    "# 4. Splitting lines\n",
    "lines = \"\"\"Line 1\n",
    "Line 2\n",
    "Line 3\"\"\"\n",
    "lines_list = lines.split('\\n')\n",
    "print(lines_list)\n",
    "\n",
    "# 5. Splitting a URL\n",
    "url = \"https://www.example.com/path/to/resource\"\n",
    "url_parts = url.replace(\"https://\", \"\").split('/')\n",
    "print(url_parts)\n"
   ]
  },
  {
   "cell_type": "code",
   "execution_count": null,
   "id": "5cd1964e",
   "metadata": {},
   "outputs": [],
   "source": []
  }
 ],
 "metadata": {
  "kernelspec": {
   "display_name": "Python 3 (ipykernel)",
   "language": "python",
   "name": "python3"
  },
  "language_info": {
   "codemirror_mode": {
    "name": "ipython",
    "version": 3
   },
   "file_extension": ".py",
   "mimetype": "text/x-python",
   "name": "python",
   "nbconvert_exporter": "python",
   "pygments_lexer": "ipython3",
   "version": "3.11.5"
  }
 },
 "nbformat": 4,
 "nbformat_minor": 5
}
