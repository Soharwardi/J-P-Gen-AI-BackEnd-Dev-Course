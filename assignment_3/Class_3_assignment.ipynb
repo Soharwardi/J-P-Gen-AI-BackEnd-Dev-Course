{
 "cells": [
  {
   "cell_type": "markdown",
   "id": "fcc24b48",
   "metadata": {},
   "source": [
    "# Write a program to check whether a person is eligible to vote or not?"
   ]
  },
  {
   "cell_type": "code",
   "execution_count": 1,
   "id": "5cd1dc28",
   "metadata": {},
   "outputs": [
    {
     "name": "stdout",
     "output_type": "stream",
     "text": [
      "Enter your age : 12\n",
      "Your not allowed to vote\n"
     ]
    }
   ],
   "source": [
    "age = int(input('Enter your age : '))\n",
    "\n",
    "if age>=18:\n",
    "    print('Your allowed to vote')\n",
    "\n",
    "else:\n",
    "    print('Your not allowed to vote')\n"
   ]
  },
  {
   "cell_type": "markdown",
   "id": "b62c26f6",
   "metadata": {},
   "source": [
    "# Write a program to check char is vowel or not.\n"
   ]
  },
  {
   "cell_type": "code",
   "execution_count": 2,
   "id": "38fe8d68",
   "metadata": {},
   "outputs": [
    {
     "name": "stdout",
     "output_type": "stream",
     "text": [
      "Enter your alphbet : s\n",
      "This is a not vowel\n"
     ]
    }
   ],
   "source": [
    "vol = input('Enter your alphbet : ').lower()\n",
    "\n",
    "if vol in 'aeiou':\n",
    "    print('This is a vowel')\n",
    "\n",
    "else:\n",
    "    print('This is a not vowel')"
   ]
  },
  {
   "cell_type": "markdown",
   "id": "637413fb",
   "metadata": {},
   "source": [
    "# Write a program to check the number is positive or negative. User input.\n"
   ]
  },
  {
   "cell_type": "code",
   "execution_count": 5,
   "id": "0894a9e2",
   "metadata": {},
   "outputs": [
    {
     "name": "stdout",
     "output_type": "stream",
     "text": [
      "Enter your nubmer : 4\n",
      "This is a positive number : \n"
     ]
    }
   ],
   "source": [
    "num = int(input('Enter your nubmer : '))\n",
    "\n",
    "if num >= 0:\n",
    "    print('This is a positive number : ')\n",
    "    \n",
    "else:\n",
    "    print('This is a nagitive number')\n"
   ]
  },
  {
   "cell_type": "markdown",
   "id": "caf0c837",
   "metadata": {},
   "source": [
    "# Write a program to check whether a number is odd or even?\n"
   ]
  },
  {
   "cell_type": "code",
   "execution_count": 28,
   "id": "45c8c0a4",
   "metadata": {},
   "outputs": [
    {
     "name": "stdout",
     "output_type": "stream",
     "text": [
      "Enter your nubmer : 3\n",
      "This is a odd number\n"
     ]
    }
   ],
   "source": [
    "num = int(input('Enter your nubmer : '))\n",
    "\n",
    "if num  %2 == 0:\n",
    "    print('This is a even number : ')\n",
    "    \n",
    "else:\n",
    "    print('This is a odd number')\n"
   ]
  },
  {
   "cell_type": "markdown",
   "id": "254fb803",
   "metadata": {},
   "source": [
    "# Write a program to display the grade of the user in subject A, ask user marks obtained out of 100\n"
   ]
  },
  {
   "cell_type": "code",
   "execution_count": 30,
   "id": "fec0192a",
   "metadata": {},
   "outputs": [
    {
     "name": "stdout",
     "output_type": "stream",
     "text": [
      "Enter your nubmer : 97\n",
      "You Grade is A+ \n"
     ]
    }
   ],
   "source": [
    "num = int(input('Enter your nubmer : '))\n",
    "\n",
    "if num >= 90:\n",
    "    print('You Grade is A+ ')\n",
    "    \n",
    "elif num >= 80:\n",
    "    print('You Grade is A ')\n",
    "    \n",
    "elif num >= 70:\n",
    "    print('You Grade is B+ ')\n",
    "    \n",
    "elif num >= 60:\n",
    "    print('You Grade is B ')\n",
    "    \n",
    "elif num >= 50:\n",
    "    print('You Grade is C ')\n",
    "    \n",
    "else:\n",
    "    print('Your are Fail')"
   ]
  },
  {
   "cell_type": "markdown",
   "id": "1010759d",
   "metadata": {},
   "source": [
    "# Write a program to check whether a number is divisible by 7\n"
   ]
  },
  {
   "cell_type": "code",
   "execution_count": 33,
   "id": "2b25db64",
   "metadata": {},
   "outputs": [
    {
     "name": "stdout",
     "output_type": "stream",
     "text": [
      "Enter your nubmer : 4576567\n",
      "This number is not divisable by 7 :  4576567\n"
     ]
    }
   ],
   "source": [
    "num = int(input('Enter your nubmer : '))\n",
    "\n",
    "if num  % 7 == 0:\n",
    "    print('This number is divisable by 7 : ' , num)\n",
    "    \n",
    "else:\n",
    "    print('This number is not divisable by 7 : ' , num)"
   ]
  },
  {
   "cell_type": "markdown",
   "id": "6f7bed43",
   "metadata": {},
   "source": [
    "# Write a program to check if year is leap year.\n"
   ]
  },
  {
   "cell_type": "code",
   "execution_count": 37,
   "id": "27b037f8",
   "metadata": {},
   "outputs": [
    {
     "name": "stdout",
     "output_type": "stream",
     "text": [
      "Enter year : 2067\n",
      "Not a leap year :  2067\n"
     ]
    }
   ],
   "source": [
    "import calendar\n",
    "\n",
    "year = int(input('Enter year : '))\n",
    "\n",
    "if calendar.isleap(year):\n",
    "    print(' This is leap year : ' , year)\n",
    "\n",
    "else:\n",
    "    print('Not a leap year : ' , year)"
   ]
  },
  {
   "cell_type": "markdown",
   "id": "1545bb96",
   "metadata": {},
   "source": [
    "# Write a program to ask user its name and check whether name consists of 5 or more letters"
   ]
  },
  {
   "cell_type": "code",
   "execution_count": 20,
   "id": "71f7aef6",
   "metadata": {},
   "outputs": [
    {
     "name": "stdout",
     "output_type": "stream",
     "text": [
      "Enter name : ali khan\n",
      "Your name lenght consist of 7\n"
     ]
    }
   ],
   "source": [
    "a = input('Enter name : ' )\n",
    "b = a.replace(\" \", \"\")\n",
    "\n",
    "\n",
    "if len(b) >= 5:\n",
    "    print(f'Your name lenght consist of {len(b)}')\n",
    "else:\n",
    "    print('Your name consist of less then 5 latters')\n"
   ]
  },
  {
   "cell_type": "markdown",
   "id": "d77985d3",
   "metadata": {},
   "source": [
    "# Write a program that accepts 3 inputs from user. input 1 and input 2 should be numbers and the third input should be mathematical operator. \n",
    "# Perform operation accordingly\n",
    "# for example\n",
    "# input1 is 5 and input2 is 10 and input3 is +\n",
    "# then output should be 15\n",
    "# input1 is 5 and input2 is 10 and input3 is *\n",
    "# then output should be 50"
   ]
  },
  {
   "cell_type": "code",
   "execution_count": 31,
   "id": "60883515",
   "metadata": {},
   "outputs": [
    {
     "name": "stdout",
     "output_type": "stream",
     "text": [
      "Enter 1st number : 1\n",
      "Enter 2st number : 0\n",
      "Sum , Multiply , Divide , Subtract : divide\n",
      "Zero is not divisable\n",
      "1.0\n"
     ]
    }
   ],
   "source": [
    "# a = int(input('Enter 1st number : '))\n",
    "# b = int(input('Enter 2st number : '))\n",
    "# c = input('Sum , Multiply , Divide , Subtract : ').strip().lower()\n",
    "\n",
    "# if c == 'sum':\n",
    "#     r = a + b\n",
    "    \n",
    "# elif c == 'multiply':\n",
    "#     r = a*b\n",
    "    \n",
    "# elif c == \"divide\":\n",
    "#     if b !=0:\n",
    "#         r = a/b\n",
    "#     else:\n",
    "#         print('Zero is not divisable')\n",
    "\n",
    "    \n",
    "# elif c == 'subtract':\n",
    "#     r  =a-b\n",
    "    \n",
    "# else:\n",
    "#     print('Enter valid number')\n",
    "    \n",
    "# print(r)\n",
    "\n",
    "a = int(input('Enter 1st number : '))\n",
    "b = int(input('Enter 2nd number : '))\n",
    "c = input('Sum, Multiply, Divide, Subtract: ').strip().lower()\n",
    "\n",
    "if c == 'sum':\n",
    "    r = a + b\n",
    "    print(r)\n",
    "    \n",
    "elif c == 'multiply':\n",
    "    r = a * b\n",
    "    print(r)\n",
    "    \n",
    "elif c == 'divide':\n",
    "    if b != 0:\n",
    "        r = a / b\n",
    "        print(r)\n",
    "    else:\n",
    "        print('Zero is not divisible')\n",
    "    \n",
    "elif c == 'subtract':\n",
    "    r = a - b\n",
    "    print(r)\n",
    "    \n",
    "else:\n",
    "    print('Enter valid operation')"
   ]
  },
  {
   "cell_type": "markdown",
   "id": "04889de4",
   "metadata": {},
   "source": [
    "# Write a program that accepts 1 input from user and check if the number is divisible by 2 and 3 both.\n",
    "# for example\n",
    "# input1 is 10\n",
    "# output should be \"10 is only divisible by 2\"\n",
    "# input1 is 9\n",
    "# output should be \"9 is only divisible by 3\"\n",
    "# input1 is 12"
   ]
  },
  {
   "cell_type": "code",
   "execution_count": 5,
   "id": "c115d96e",
   "metadata": {},
   "outputs": [
    {
     "name": "stdout",
     "output_type": "stream",
     "text": [
      "Enter a number4\n",
      "Not divisable\n"
     ]
    }
   ],
   "source": [
    "a = int(input('Enter a number : '))\n",
    "\n",
    "if a % 2 == 0 and a % 3 == 0:\n",
    "    print('this number is divisable by 2 and 3 : ' , a)\n",
    "\n",
    "else:\n",
    "    print('Not divisable')\n",
    "\n",
    "# number = int(input(\"Please enter a number: \"))\n",
    "\n",
    "\n",
    "# if number % 2 == 0 and number % 3 == 0:\n",
    "#     print(f\"The number {number} is divisible by both 2 and 3.\")\n",
    "# else:\n",
    "#     print(f\"The number {number} is not divisible by both 2 and 3.\")\n"
   ]
  },
  {
   "cell_type": "markdown",
   "id": "40435a82",
   "metadata": {},
   "source": [
    "# Write a program that accepts 2 inputs from user and check which number is largest.\n"
   ]
  },
  {
   "cell_type": "code",
   "execution_count": 8,
   "id": "a4d2582c",
   "metadata": {},
   "outputs": [
    {
     "name": "stdout",
     "output_type": "stream",
     "text": [
      "Enter a number21\n",
      "Enter a number12\n",
      "this number is greater  :  21\n"
     ]
    }
   ],
   "source": [
    "\n",
    "a = int(input('Enter a number'))\n",
    "b = int(input('Enter a number'))\n",
    "\n",
    "if a > b :\n",
    "    print('this number is greater  : ' , a)\n",
    "\n",
    "else:\n",
    "    print('Not bigger number : ' , a)"
   ]
  },
  {
   "cell_type": "markdown",
   "id": "9d2932c5",
   "metadata": {},
   "source": [
    "# # # Write a program that accepts 3 input from user and check which number is largest."
   ]
  },
  {
   "cell_type": "code",
   "execution_count": 2,
   "id": "32cae7fb",
   "metadata": {},
   "outputs": [
    {
     "name": "stdout",
     "output_type": "stream",
     "text": [
      "Enter the first number: 12\n",
      "Enter the second number: 34\n",
      "Enter the third number: 56\n",
      "The number 56 is the largest.\n"
     ]
    }
   ],
   "source": [
    "\n",
    "# a = int(input('Enter a number'))\n",
    "# b = int(input('Enter a number'))\n",
    "# c = int(input('Enter a number'))\n",
    "\n",
    "# if a >= b :\n",
    "#     print(f'this number {a} is greater  ')\n",
    "    \n",
    "# elif b >= c :\n",
    "#     print(f'this number {a} is greater  ')\n",
    "    \n",
    "# elif a >= c :\n",
    "#     print(f'this number {b} is greater  ')\n",
    "    \n",
    "# elif c >= b :\n",
    "#     print(f'this number {b} is greater  ')\n",
    "    \n",
    "# elif a >= c :\n",
    "#     print(f'this number {c} is greater  ')\n",
    "    \n",
    "# elif c >= a :\n",
    "#     print(f'this number {b} is greater  ')\n",
    "\n",
    "# else:\n",
    "#     print('Same number ')\n",
    "\n",
    "# Your code has several logical errors and redundancies. Let's go through them one by one:\n",
    "\n",
    "# Comparison Logic: Your comparisons are not structured correctly to find the largest number. For example, you check a > b and \n",
    "# then check a > c immediately after. This can lead to incorrect results if a > b but b > c.\n",
    "\n",
    "# Redundancy: Some comparisons are redundant and don't cover all cases. For example, b > c and b > a are checked separately,\n",
    "# which isn't necessary.\n",
    "\n",
    "# Correct Comparison Order: The order in which comparisons are made should ensure that all possibilities are considered.\n",
    "\n",
    "# Here's why this doesn't work:\n",
    "\n",
    "# The second condition elif a > c will never execute if a > b is true, which is not what you want.\n",
    "# You have elif b > a and elif c > a which might not accurately determine the largest number.\n",
    "# elif c > a incorrectly prints this number {b} is greater, which is a typo and should be {c} instead.\n",
    "# By reordering and correctly structuring the conditions as shown in the corrected version, you can accurately determine \n",
    "# the largest number.\n",
    "\n",
    "\n",
    "# Accepting three numbers from the user\n",
    "a = int(input('Enter the first number: '))\n",
    "b = int(input('Enter the second number: '))\n",
    "c = int(input('Enter the third number: '))\n",
    "\n",
    "# Check which number is the largest\n",
    "if a >= b and a >= c:\n",
    "    print(f'The number {a} is the largest.')\n",
    "elif b >= a and b >= c:\n",
    "    print(f'The number {b} is the largest.')\n",
    "else:\n",
    "    print(f'The number {c} is the largest.')\n"
   ]
  },
  {
   "cell_type": "markdown",
   "id": "44d58aaf",
   "metadata": {},
   "source": [
    "# Write a python program that accept user an input. The valid input should be of following\n",
    "# - GREEN or gREEN or green etc \n",
    "# - RED or red or rEd etc \n",
    "# - YELLOW or yellow or yELlOw etc\n",
    "# program should display the following message on checking above input\n",
    "# Car is allowed to go\n",
    "# Car has to wait\n",
    "# Car has to stop\n",
    "# invalid input\n",
    "\n"
   ]
  },
  {
   "cell_type": "code",
   "execution_count": 12,
   "id": "71afbba6",
   "metadata": {},
   "outputs": [
    {
     "name": "stdout",
     "output_type": "stream",
     "text": [
      "Enter you Choice. Green , Yellow , Red : green\n",
      "Car is allowed to go\n"
     ]
    }
   ],
   "source": [
    "a = input('Enter you Choice. Green , Yellow , Red : ').lower()\n",
    "if a == 'green':\n",
    "    print('Car is allowed to go')\n",
    "elif a == 'yellow':\n",
    "    print('Car has to wait')\n",
    "elif a == 'red':\n",
    "    print('Car has to stop')\n",
    "else:\n",
    "    print('invalid input')"
   ]
  },
  {
   "cell_type": "markdown",
   "id": "dea1becd",
   "metadata": {},
   "source": [
    "# Write a program that accepts 2 inputs from user and check which number is largest."
   ]
  },
  {
   "cell_type": "code",
   "execution_count": 19,
   "id": "4c5774fc",
   "metadata": {},
   "outputs": [
    {
     "name": "stdout",
     "output_type": "stream",
     "text": [
      "Enter a number :23\n",
      "Enter a number :21\n",
      "this number is greater  :  23\n"
     ]
    }
   ],
   "source": [
    "a = int(input('Enter a number :'))\n",
    "b = int(input('Enter a number :'))\n",
    "\n",
    "if a > b :\n",
    "    print('this number is greater  : ' , a)\n",
    "    \n",
    "elif b > a :\n",
    "    print('this number is greater : ' , b)\n",
    "\n",
    "else:\n",
    "    print('Both number are equal : ' )"
   ]
  },
  {
   "cell_type": "markdown",
   "id": "2ff052eb",
   "metadata": {},
   "source": [
    "# # Write a program that takes a password as input and checks its strength:\n"
   ]
  },
  {
   "cell_type": "code",
   "execution_count": 12,
   "id": "0e8eda18",
   "metadata": {},
   "outputs": [
    {
     "name": "stdout",
     "output_type": "stream",
     "text": [
      "Enter the password: rty6543\n",
      "Moderate password\n"
     ]
    }
   ],
   "source": [
    "\n",
    "# a = input('Enter a number :')\n",
    "# b = len(a)\n",
    "\n",
    "# if b >= 5:\n",
    "#     print('weak password')\n",
    "    \n",
    "# elif b <= 6 and a >= 12:\n",
    "#     print('Moderate password')\n",
    "    \n",
    "# elif b <= 12:\n",
    "#     print('Strong password')\n",
    "    \n",
    "# else:\n",
    "#     print('Invalid input')\n",
    "\n",
    "# There are several issues in your program. Here are the key ones:\n",
    "\n",
    "# The variable a is read as a string from input, but you need to convert it to an integer to compare it to numeric values.\n",
    "# The condition a == 6 and a == 12 is logically incorrect because a cannot be 6 and 12 at the same time.\n",
    "# The range for a moderate password should be between 6 and 12 (inclusive).\n",
    "\n",
    "a = input('Enter the password: ')\n",
    "\n",
    "password_length = len(a)\n",
    "\n",
    "if password_length <= 5:\n",
    "    print('Weak password')\n",
    "elif 6 <= password_length <= 12:\n",
    "    print('Moderate password')\n",
    "elif password_length >= 13:\n",
    "    print('Strong password')\n",
    "else:\n",
    "    print('Invalid input')\n"
   ]
  },
  {
   "cell_type": "markdown",
   "id": "69b71f3c",
   "metadata": {},
   "source": [
    "# Write a program that takes an employee's salary and years of service as input. Calculate the bonus as follows:\n"
   ]
  },
  {
   "cell_type": "code",
   "execution_count": 18,
   "id": "e3036698",
   "metadata": {},
   "outputs": [
    {
     "name": "stdout",
     "output_type": "stream",
     "text": [
      "Enter your salary : 500\n",
      "Enter your working year : 23\n",
      "your bounes increment is 100.0\n"
     ]
    }
   ],
   "source": [
    "a = int(input('Enter your salary : '))\n",
    "b = int(input('Enter your working year : '))\n",
    "\n",
    "if b <= 5:\n",
    "    print('No Bounes .')\n",
    "    \n",
    "elif b >= 5 and b <= 10:\n",
    "    print(f'your bounes increment is {int(a)*10/100}')\n",
    "    \n",
    "elif b >= 10:\n",
    "    print(f'your bounes increment is {int(a)*20/100}')\n",
    "    \n",
    "else:\n",
    "    print ('Invalid input')"
   ]
  },
  {
   "cell_type": "markdown",
   "id": "cdeea8d8",
   "metadata": {},
   "source": [
    "# Write a program that takes the total amount of a purchase as input and applies a discount:"
   ]
  },
  {
   "cell_type": "code",
   "execution_count": 20,
   "id": "e99a6b69",
   "metadata": {},
   "outputs": [
    {
     "name": "stdout",
     "output_type": "stream",
     "text": [
      "Enter your purchase amount : 430\n",
      "your discount is $ 43.0 on amount of : $ 430\n"
     ]
    }
   ],
   "source": [
    "a = int(input('Enter your purchase amount : '))\n",
    "\n",
    "if a <= 100:\n",
    "    print('No Bounes on $100 purchase.')\n",
    "    \n",
    "elif a >= 100 and a <= 500:\n",
    "    print(f'your discount is $ {int(a)*10/100} on amount of : $' , a)\n",
    "    \n",
    "elif a >= 500:\n",
    "    print(f'your discount is $ {int(a)*20/100} on amount of : $' , a)\n",
    "    \n",
    "else:\n",
    "    print ('Invalid input')"
   ]
  },
  {
   "cell_type": "markdown",
   "id": "801b8a09",
   "metadata": {},
   "source": [
    "# Write a program that takes a person's age as input and prints the age group they belong to:"
   ]
  },
  {
   "cell_type": "code",
   "execution_count": 27,
   "id": "deb0ec89",
   "metadata": {},
   "outputs": [
    {
     "name": "stdout",
     "output_type": "stream",
     "text": [
      "Enter your age : 14\n",
      "Teenager\n"
     ]
    }
   ],
   "source": [
    "a = int(input('Enter your age : '))\n",
    "\n",
    "if a <= 13:\n",
    "    print('Child.')\n",
    "    \n",
    "elif a >= 13 and a <= 19:\n",
    "    print('Teenager')\n",
    "    \n",
    "elif a >= 20 and a<= 65:\n",
    "    print('Adult')\n",
    "    \n",
    "else:\n",
    "    a > 65\n",
    "    print ('Senior')"
   ]
  },
  {
   "cell_type": "markdown",
   "id": "fc6165ba",
   "metadata": {},
   "source": [
    "# Write a program that accepts 3 inputs from user. input 1 and input 2 should be numbers and the third input should be mathematical operator. \n",
    "# Perform operation accordingly\n",
    "# for example\n",
    "# input1 is 5 and input2 is 10 and input3 is +\n",
    "# then output should be 15\n",
    "# input1 is 5 and input2 is 10 and input3 is *\n",
    "# then output should be 50"
   ]
  },
  {
   "cell_type": "code",
   "execution_count": 31,
   "id": "78e31720",
   "metadata": {},
   "outputs": [
    {
     "name": "stdout",
     "output_type": "stream",
     "text": [
      " For Discount you have to be a member \n",
      "Are you a number \"Yes or No\" : yes\n",
      " Enter the purchsed amount : 88\n",
      "You will get 10 % dicount on purchase amount $ 88 that is $ 8 \n"
     ]
    }
   ],
   "source": [
    "print(' For Discount you have to be a member ')\n",
    "a = input('Are you a number \"Yes or No\" : ').lower()\n",
    "b = int(input(' Enter the purchsed amount : '))\n",
    "\n",
    "if a == 'yes' and b >= 50:\n",
    "    print(f'You will get 10 % dicount on purchase amount $ {b} that is $ {int(b * 10/100)} ')\n",
    "    \n",
    "elif a == 'yes' and b <= 49:\n",
    "        print(f'You will get 5 % dicount on purchase amount $ {b} that is $ {int(b * 5/100)} ')\n",
    "    \n",
    "\n",
    "elif a == 'no' and b >= 100:\n",
    "        print(f'You will get 5 % dicount on purchase amount $ {b} that is $ {int(b * 5/100)} ')\n",
    "\n",
    "else:\n",
    "    a == 'no'\n",
    "    print ('No discount')"
   ]
  },
  {
   "cell_type": "code",
   "execution_count": null,
   "id": "5c7e868b",
   "metadata": {},
   "outputs": [],
   "source": []
  }
 ],
 "metadata": {
  "kernelspec": {
   "display_name": "Python 3 (ipykernel)",
   "language": "python",
   "name": "python3"
  },
  "language_info": {
   "codemirror_mode": {
    "name": "ipython",
    "version": 3
   },
   "file_extension": ".py",
   "mimetype": "text/x-python",
   "name": "python",
   "nbconvert_exporter": "python",
   "pygments_lexer": "ipython3",
   "version": "3.11.5"
  }
 },
 "nbformat": 4,
 "nbformat_minor": 5
}
