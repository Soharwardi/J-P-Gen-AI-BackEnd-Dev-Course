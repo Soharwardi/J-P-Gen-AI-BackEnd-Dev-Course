{
 "cells": [
  {
   "cell_type": "code",
   "execution_count": 1,
   "id": "e8bb3260",
   "metadata": {},
   "outputs": [
    {
     "name": "stdout",
     "output_type": "stream",
     "text": [
      "2024-08-12\n"
     ]
    }
   ],
   "source": [
    "# Write a Python program that uses the date module to print the current date in the format \"YYYY-MM-DD\".\n",
    "\n",
    "from datetime import date\n",
    "\n",
    "current_date = date.today()\n",
    "print(current_date.strftime(\"%Y-%m-%d\"))\n"
   ]
  },
  {
   "cell_type": "code",
   "execution_count": 2,
   "id": "47ae7b01",
   "metadata": {},
   "outputs": [
    {
     "name": "stdout",
     "output_type": "stream",
     "text": [
      "2023-08-26\n"
     ]
    }
   ],
   "source": [
    "# Create a program that takes a date in the format \"MM/DD/YYYY\" as string and converts it to \"YYYY-MM-DD\".\n",
    "\n",
    "from datetime import datetime\n",
    "\n",
    "date_string = \"08/26/2023\"\n",
    "date_object = datetime.strptime(date_string, \"%m/%d/%Y\")\n",
    "formatted_date = date_object.strftime(\"%Y-%m-%d\")\n",
    "print(formatted_date)\n"
   ]
  },
  {
   "cell_type": "code",
   "execution_count": 5,
   "id": "341c324b",
   "metadata": {},
   "outputs": [
    {
     "name": "stdout",
     "output_type": "stream",
     "text": [
      "Enter your birth year: 1980\n",
      "You are 44 years old.\n"
     ]
    }
   ],
   "source": [
    "# Write a program that takes a birth year as input and calculates the age of a person .\n",
    "\n",
    "from datetime import date\n",
    "\n",
    "birth_year = int(input(\"Enter your birth year: \"))\n",
    "current_year = date.today().year\n",
    "age = current_year - birth_year\n",
    "print(f\"You are {age} years old.\")\n"
   ]
  },
  {
   "cell_type": "code",
   "execution_count": 6,
   "id": "6d07c0f4",
   "metadata": {},
   "outputs": [
    {
     "name": "stdout",
     "output_type": "stream",
     "text": [
      "Enter your birth date (MM/DD): 05/01\n",
      "261 days remaining until your next birthday.\n"
     ]
    }
   ],
   "source": [
    "# Create a program that calculates and prints the number of days remaining until \n",
    "# a person's next birthday.take users birth date as input\n",
    "\n",
    "from datetime import date\n",
    "\n",
    "birth_date_str = input(\"Enter your birth date (MM/DD): \")\n",
    "birth_month, birth_day = map(int, birth_date_str.split('/'))\n",
    "today = date.today()\n",
    "next_birthday = date(today.year, birth_month, birth_day)\n",
    "\n",
    "if next_birthday < today:\n",
    "    next_birthday = date(today.year + 1, birth_month, birth_day)\n",
    "\n",
    "days_remaining = (next_birthday - today).days\n",
    "print(f\"{days_remaining} days remaining until your next birthday.\")\n"
   ]
  },
  {
   "cell_type": "code",
   "execution_count": 7,
   "id": "6b8bee34",
   "metadata": {},
   "outputs": [
    {
     "name": "stdout",
     "output_type": "stream",
     "text": [
      "Enter the first date (YYYY-MM-DD): 1980-05-01\n",
      "Enter the second date (YYYY-MM-DD): 2024-08-13\n",
      "The number of days between the two dates is: 16175\n"
     ]
    }
   ],
   "source": [
    "# Write a program that calculates and displays the number of days between two given dates.\n",
    "\n",
    "from datetime import datetime\n",
    "\n",
    "date1_str = input(\"Enter the first date (YYYY-MM-DD): \")\n",
    "date2_str = input(\"Enter the second date (YYYY-MM-DD): \")\n",
    "\n",
    "date1 = datetime.strptime(date1_str, \"%Y-%m-%d\")\n",
    "date2 = datetime.strptime(date2_str, \"%Y-%m-%d\")\n",
    "\n",
    "difference = abs((date2 - date1).days)\n",
    "print(f\"The number of days between the two dates is: {difference}\")\n"
   ]
  },
  {
   "cell_type": "code",
   "execution_count": 8,
   "id": "5923fd85",
   "metadata": {},
   "outputs": [
    {
     "name": "stdout",
     "output_type": "stream",
     "text": [
      "The day of the week is: Saturday\n"
     ]
    }
   ],
   "source": [
    "# Create a program that takes a date as string and returns the corresponding day of \n",
    "# the week (e.g., Monday, Tuesday, etc.).\n",
    "\n",
    "from datetime import datetime\n",
    "\n",
    "date_string = \"08/26/2023\"\n",
    "date_object = datetime.strptime(date_string, \"%m/%d/%Y\")\n",
    "day_of_week = date_object.strftime(\"%A\")\n",
    "print(f\"The day of the week is: {day_of_week}\")\n"
   ]
  },
  {
   "cell_type": "code",
   "execution_count": 9,
   "id": "3e3d8310",
   "metadata": {},
   "outputs": [
    {
     "name": "stdout",
     "output_type": "stream",
     "text": [
      "Enter the year: 1980\n",
      "Enter the month: 05\n",
      "31 days in 5/1980\n"
     ]
    }
   ],
   "source": [
    "# Create a program that takes a year and a month as input and prints the number of days in that month.\n",
    "# without using calender module\n",
    "\n",
    "year = int(input(\"Enter the year: \"))\n",
    "month = int(input(\"Enter the month: \"))\n",
    "\n",
    "if month in [1, 3, 5, 7, 8, 10, 12]:\n",
    "    days = 31\n",
    "elif month in [4, 6, 9, 11]:\n",
    "    days = 30\n",
    "elif month == 2:\n",
    "    if (year % 4 == 0 and year % 100 != 0) or (year % 400 == 0):\n",
    "        days = 29\n",
    "    else:\n",
    "        days = 28\n",
    "else:\n",
    "    days = \"Invalid month\"\n",
    "\n",
    "print(f\"{days} days in {month}/{year}\")\n"
   ]
  },
  {
   "cell_type": "code",
   "execution_count": 25,
   "id": "a9db3b62",
   "metadata": {},
   "outputs": [
    {
     "name": "stdout",
     "output_type": "stream",
     "text": [
      "Enter the start date (YYYY-MM-DD): 1980-05-13\n",
      "Enter the number of days to add: 6788\n",
      "The date 6788 days from 1980-05-13 is 1998-12-13\n"
     ]
    }
   ],
   "source": [
    "# Create a function that takes a starting date and a number of days as input, and then \n",
    "# calculates and prints the date that\n",
    "# is the specified number of days in the future.\n",
    "\n",
    "from datetime import date, timedelta\n",
    "\n",
    "start_date_str = input(\"Enter the start date (YYYY-MM-DD): \")\n",
    "days_to_add = int(input(\"Enter the number of days to add: \"))\n",
    "\n",
    "start_date = datetime.strptime(start_date_str, \"%Y-%m-%d\").date()\n",
    "future_date = start_date + timedelta(days=days_to_add)\n",
    "\n",
    "print(f\"The date {days_to_add} days from {start_date_str} is {future_date}\")\n"
   ]
  },
  {
   "cell_type": "code",
   "execution_count": 14,
   "id": "d4ad62e7",
   "metadata": {},
   "outputs": [
    {
     "name": "stdout",
     "output_type": "stream",
     "text": [
      "2024-08-13 00:05:08.852395\n"
     ]
    }
   ],
   "source": [
    "# Write a Python program that uses the datetime module to print the current date and time.\n",
    "\n",
    "from datetime import datetime\n",
    "\n",
    "current_datetime = datetime.now()\n",
    "print(current_datetime)\n"
   ]
  },
  {
   "cell_type": "code",
   "execution_count": 15,
   "id": "b53abdbd",
   "metadata": {},
   "outputs": [
    {
     "name": "stdout",
     "output_type": "stream",
     "text": [
      "2023-08-26 08:10:00\n"
     ]
    }
   ],
   "source": [
    "# Create a function that takes a datetime in the format \"MM/DD/YYYY HH:MM:SS\" as string\n",
    "# formats it as \"YYYY-MM-DD HH:MM:SS\".\n",
    "\n",
    "from datetime import datetime\n",
    "\n",
    "datetime_str = \"08/26/2023 08:10:00\"\n",
    "datetime_object = datetime.strptime(datetime_str, \"%m/%d/%Y %H:%M:%S\")\n",
    "formatted_datetime = datetime_object.strftime(\"%Y-%m-%d %H:%M:%S\")\n",
    "print(formatted_datetime)\n"
   ]
  },
  {
   "cell_type": "code",
   "execution_count": 16,
   "id": "0b9a518c",
   "metadata": {},
   "outputs": [
    {
     "name": "stdout",
     "output_type": "stream",
     "text": [
      "Time difference: 4 hours, 5 minutes, 30 seconds\n"
     ]
    }
   ],
   "source": [
    "# Write a program that calculates the time difference between two given datetime objects\n",
    "# and displays it in hours,\n",
    "# minutes, and seconds.\n",
    "\n",
    "from datetime import datetime\n",
    "\n",
    "datetime1_str = \"2023-08-26 08:10:00\"\n",
    "datetime2_str = \"2023-08-26 12:15:30\"\n",
    "\n",
    "datetime1 = datetime.strptime(datetime1_str, \"%Y-%m-%d %H:%M:%S\")\n",
    "datetime2 = datetime.strptime(datetime2_str, \"%Y-%m-%d %H:%M:%S\")\n",
    "\n",
    "time_difference = datetime2 - datetime1\n",
    "\n",
    "hours, remainder = divmod(time_difference.seconds, 3600)\n",
    "minutes, seconds = divmod(remainder, 60)\n",
    "\n",
    "print(f\"Time difference: {hours} hours, {minutes} minutes, {seconds} seconds\")\n"
   ]
  },
  {
   "cell_type": "code",
   "execution_count": 17,
   "id": "30e1fc05",
   "metadata": {},
   "outputs": [
    {
     "name": "stdout",
     "output_type": "stream",
     "text": [
      "New datetime: 2023-08-26 13:10:00\n"
     ]
    }
   ],
   "source": [
    "# Create a function that takes a datetime object and a number of hours as input, then\n",
    "# returns a new datetime object\n",
    "# with the added hours.\n",
    "\n",
    "\n",
    "from datetime import datetime, timedelta\n",
    "\n",
    "datetime_str = \"2023-08-26 08:10:00\"\n",
    "hours_to_add = 5\n",
    "\n",
    "datetime_object = datetime.strptime(datetime_str, \"%Y-%m-%d %H:%M:%S\")\n",
    "new_datetime = datetime_object + timedelta(hours=hours_to_add)\n",
    "\n",
    "print(f\"New datetime: {new_datetime}\")\n"
   ]
  },
  {
   "cell_type": "code",
   "execution_count": 18,
   "id": "ce170dea",
   "metadata": {},
   "outputs": [
    {
     "name": "stdout",
     "output_type": "stream",
     "text": [
      "August 13, 2024\n"
     ]
    }
   ],
   "source": [
    "# Create a function that takes a datetime object as input and formats it as \"Month Day,\n",
    "# Year\" (e.g., \"August 25, 2023\")\n",
    "# using strftime().\n",
    "\n",
    "from datetime import datetime\n",
    "\n",
    "datetime_object = datetime.now()\n",
    "formatted_datetime = datetime_object.strftime(\"%B %d, %Y\")\n",
    "print(formatted_datetime)\n"
   ]
  },
  {
   "cell_type": "code",
   "execution_count": 19,
   "id": "150bd62a",
   "metadata": {},
   "outputs": [
    {
     "name": "stdout",
     "output_type": "stream",
     "text": [
      "13-August-2024\n"
     ]
    }
   ],
   "source": [
    "# Create a function that takes a datetime object as input and formats it as\n",
    "# \"Day-Month-Year\" (e.g., \"25-August-2023\")\n",
    "# using strftime().\n",
    "\n",
    "from datetime import datetime\n",
    "\n",
    "datetime_object = datetime.now()\n",
    "formatted_datetime = datetime_object.strftime(\"%d-%B-%Y\")\n",
    "print(formatted_datetime)\n"
   ]
  },
  {
   "cell_type": "code",
   "execution_count": 20,
   "id": "6004c61b",
   "metadata": {},
   "outputs": [
    {
     "name": "stdout",
     "output_type": "stream",
     "text": [
      "2023-08-26 15:18:33.983780-07:00\n"
     ]
    }
   ],
   "source": [
    "# create a datetime object from the string \"26-08-2023 15:18:33.983780-07:00\" \n",
    "# hint: https://strftime.org/\n",
    "\n",
    "from datetime import datetime\n",
    "\n",
    "datetime_str = \"26-08-2023 15:18:33.983780-07:00\"\n",
    "datetime_object = datetime.strptime(datetime_str, \"%d-%m-%Y %H:%M:%S.%f%z\")\n",
    "print(datetime_object)\n"
   ]
  },
  {
   "cell_type": "code",
   "execution_count": 21,
   "id": "b2cea840",
   "metadata": {},
   "outputs": [
    {
     "name": "stdout",
     "output_type": "stream",
     "text": [
      "2023-08-26 20:10:00\n"
     ]
    }
   ],
   "source": [
    "# create a datetime object from the string \"08-26-2023 08:10:00 PM\"\n",
    "# hint: https://strftime.org/\n",
    "\n",
    "from datetime import datetime\n",
    "\n",
    "datetime_str = \"08-26-2023 08:10:00 PM\"\n",
    "datetime_object = datetime.strptime(datetime_str, \"%m-%d-%Y %I:%M:%S %p\")\n",
    "print(datetime_object)\n"
   ]
  },
  {
   "cell_type": "code",
   "execution_count": 22,
   "id": "f4ca678f",
   "metadata": {},
   "outputs": [
    {
     "name": "stdout",
     "output_type": "stream",
     "text": [
      "2023-08-08 08:10:00\n"
     ]
    }
   ],
   "source": [
    "# dt_named_and_short_form_format = \"8-August-23 08:10:00\"\n",
    "# hint: https://strftime.org/\n",
    "\n",
    "from datetime import datetime\n",
    "\n",
    "dt_named_and_short_form_format = \"8-August-23 08:10:00\"\n",
    "datetime_object = datetime.strptime(dt_named_and_short_form_format, \"%d-%B-%y %H:%M:%S\")\n",
    "print(datetime_object)\n"
   ]
  },
  {
   "cell_type": "code",
   "execution_count": 23,
   "id": "8ab84232",
   "metadata": {},
   "outputs": [
    {
     "name": "stdout",
     "output_type": "stream",
     "text": [
      "Current time: 12:05 AM\n"
     ]
    }
   ],
   "source": [
    "# create a current datetime and then displays it in the format \"HH:MM AM/PM\"\n",
    "\n",
    "from datetime import datetime\n",
    "\n",
    "current_datetime = datetime.now()\n",
    "formatted_time = current_datetime.strftime(\"%I:%M %p\")\n",
    "print(f\"Current time: {formatted_time}\")\n"
   ]
  },
  {
   "cell_type": "code",
   "execution_count": 24,
   "id": "8b6646eb",
   "metadata": {},
   "outputs": [
    {
     "name": "stdout",
     "output_type": "stream",
     "text": [
      "Enter a date (MM/DD/YYYY): 05/05/1980\n",
      "Formatted date: 1980-05-05\n"
     ]
    }
   ],
   "source": [
    "# Write a program that takes a user-entered date in the format \"MM/DD/YYYY\" and prints it in the format \"YYYY-MM-DD\".\n",
    "\n",
    "from datetime import datetime\n",
    "\n",
    "date_string = input(\"Enter a date (MM/DD/YYYY): \")\n",
    "date_object = datetime.strptime(date_string, \"%m/%d/%Y\")\n",
    "formatted_date = date_object.strftime(\"%Y-%m-%d\")\n",
    "print(f\"Formatted date: {formatted_date}\")\n"
   ]
  },
  {
   "cell_type": "code",
   "execution_count": 26,
   "id": "ad2bd9f9",
   "metadata": {},
   "outputs": [
    {
     "name": "stdout",
     "output_type": "stream",
     "text": [
      "Day of the week: Tuesday\n"
     ]
    }
   ],
   "source": [
    "# Create a function that takes a datetime object as input and displays the day of the week (e.g., \"Monday\") using strftime().\n",
    "# hint: https://strftime.org/\n",
    "\n",
    "from datetime import datetime\n",
    "\n",
    "def display_day_of_week(dt_obj):\n",
    "    day_of_week = dt_obj.strftime(\"%A\")\n",
    "    print(f\"Day of the week: {day_of_week}\")\n",
    "\n",
    "datetime_obj = datetime.now()  # Example datetime object\n",
    "display_day_of_week(datetime_obj)\n"
   ]
  },
  {
   "cell_type": "code",
   "execution_count": 27,
   "id": "5a7f300a",
   "metadata": {},
   "outputs": [
    {
     "name": "stdout",
     "output_type": "stream",
     "text": [
      "Enter the timezone name (e.g., 'America/New_York'): 5gmt\n"
     ]
    },
    {
     "ename": "UnknownTimeZoneError",
     "evalue": "'5gmt'",
     "output_type": "error",
     "traceback": [
      "\u001b[1;31m---------------------------------------------------------------------------\u001b[0m",
      "\u001b[1;31mUnknownTimeZoneError\u001b[0m                      Traceback (most recent call last)",
      "Cell \u001b[1;32mIn[27], line 13\u001b[0m\n\u001b[0;32m     10\u001b[0m     \u001b[38;5;28mprint\u001b[39m(\u001b[38;5;124mf\u001b[39m\u001b[38;5;124m\"\u001b[39m\u001b[38;5;124mCurrent time in \u001b[39m\u001b[38;5;132;01m{\u001b[39;00mtimezone_name\u001b[38;5;132;01m}\u001b[39;00m\u001b[38;5;124m: \u001b[39m\u001b[38;5;132;01m{\u001b[39;00mcurrent_time\u001b[38;5;132;01m}\u001b[39;00m\u001b[38;5;124m\"\u001b[39m)\n\u001b[0;32m     12\u001b[0m timezone_name \u001b[38;5;241m=\u001b[39m \u001b[38;5;28minput\u001b[39m(\u001b[38;5;124m\"\u001b[39m\u001b[38;5;124mEnter the timezone name (e.g., \u001b[39m\u001b[38;5;124m'\u001b[39m\u001b[38;5;124mAmerica/New_York\u001b[39m\u001b[38;5;124m'\u001b[39m\u001b[38;5;124m): \u001b[39m\u001b[38;5;124m\"\u001b[39m)\n\u001b[1;32m---> 13\u001b[0m print_current_time_in_timezone(timezone_name)\n",
      "Cell \u001b[1;32mIn[27], line 8\u001b[0m, in \u001b[0;36mprint_current_time_in_timezone\u001b[1;34m(timezone_name)\u001b[0m\n\u001b[0;32m      7\u001b[0m \u001b[38;5;28;01mdef\u001b[39;00m \u001b[38;5;21mprint_current_time_in_timezone\u001b[39m(timezone_name):\n\u001b[1;32m----> 8\u001b[0m     timezone \u001b[38;5;241m=\u001b[39m pytz\u001b[38;5;241m.\u001b[39mtimezone(timezone_name)\n\u001b[0;32m      9\u001b[0m     current_time \u001b[38;5;241m=\u001b[39m datetime\u001b[38;5;241m.\u001b[39mnow(timezone)\n\u001b[0;32m     10\u001b[0m     \u001b[38;5;28mprint\u001b[39m(\u001b[38;5;124mf\u001b[39m\u001b[38;5;124m\"\u001b[39m\u001b[38;5;124mCurrent time in \u001b[39m\u001b[38;5;132;01m{\u001b[39;00mtimezone_name\u001b[38;5;132;01m}\u001b[39;00m\u001b[38;5;124m: \u001b[39m\u001b[38;5;132;01m{\u001b[39;00mcurrent_time\u001b[38;5;132;01m}\u001b[39;00m\u001b[38;5;124m\"\u001b[39m)\n",
      "File \u001b[1;32m~\\anaconda3\\Lib\\site-packages\\pytz\\__init__.py:188\u001b[0m, in \u001b[0;36mtimezone\u001b[1;34m(zone)\u001b[0m\n\u001b[0;32m    186\u001b[0m             fp\u001b[38;5;241m.\u001b[39mclose()\n\u001b[0;32m    187\u001b[0m     \u001b[38;5;28;01melse\u001b[39;00m:\n\u001b[1;32m--> 188\u001b[0m         \u001b[38;5;28;01mraise\u001b[39;00m UnknownTimeZoneError(zone)\n\u001b[0;32m    190\u001b[0m \u001b[38;5;28;01mreturn\u001b[39;00m _tzinfo_cache[zone]\n",
      "\u001b[1;31mUnknownTimeZoneError\u001b[0m: '5gmt'"
     ]
    }
   ],
   "source": [
    "# Create a function that takes a timezone name as input and prints the current date\n",
    "# time object in that timezone.\n",
    "\n",
    "from datetime import datetime\n",
    "import pytz\n",
    "\n",
    "def print_current_time_in_timezone(timezone_name):\n",
    "    timezone = pytz.timezone(timezone_name)\n",
    "    current_time = datetime.now(timezone)\n",
    "    print(f\"Current time in {timezone_name}: {current_time}\")\n",
    "\n",
    "timezone_name = input(\"Enter the timezone name (e.g., 'America/New_York'): \")\n",
    "print_current_time_in_timezone(timezone_name)\n"
   ]
  },
  {
   "cell_type": "code",
   "execution_count": 28,
   "id": "d5fc78c0",
   "metadata": {},
   "outputs": [
    {
     "name": "stdout",
     "output_type": "stream",
     "text": [
      "Converted datetime: 2023-08-26 21:10:00+09:00\n"
     ]
    }
   ],
   "source": [
    "# Write a program that converts a given date time (tz aware) string from one timezone to another.\n",
    "\n",
    "from datetime import datetime\n",
    "import pytz\n",
    "\n",
    "def convert_timezone(dt_str, from_tz_name, to_tz_name):\n",
    "    from_tz = pytz.timezone(from_tz_name)\n",
    "    to_tz = pytz.timezone(to_tz_name)\n",
    "\n",
    "    # Parse the datetime string with the source timezone\n",
    "    datetime_obj = datetime.strptime(dt_str, \"%Y-%m-%d %H:%M:%S%z\")\n",
    "    datetime_obj = datetime_obj.astimezone(from_tz)\n",
    "\n",
    "    # Convert to the target timezone\n",
    "    target_datetime = datetime_obj.astimezone(to_tz)\n",
    "    print(f\"Converted datetime: {target_datetime}\")\n",
    "\n",
    "dt_str = \"2023-08-26 08:10:00-0400\"  # Example datetime string with timezone offset\n",
    "from_timezone = \"America/New_York\"\n",
    "to_timezone = \"Asia/Tokyo\"\n",
    "\n",
    "convert_timezone(dt_str, from_timezone, to_timezone)\n"
   ]
  },
  {
   "cell_type": "code",
   "execution_count": 29,
   "id": "0cdf1a58",
   "metadata": {},
   "outputs": [
    {
     "name": "stdout",
     "output_type": "stream",
     "text": [
      "Localized datetime: 2023-08-26 15:00:00+05:00\n"
     ]
    }
   ],
   "source": [
    "# Write a program that takes a datetime object (naive) and a timezone name as input, and returns a localized datetime object in the specified timezone.\n",
    "\n",
    "from datetime import datetime\n",
    "import pytz\n",
    "\n",
    "def localize_datetime(naive_dt, timezone_name):\n",
    "    timezone = pytz.timezone(timezone_name)\n",
    "    localized_dt = timezone.localize(naive_dt)\n",
    "    return localized_dt\n",
    "\n",
    "# Example usage\n",
    "naive_dt = datetime(2023, 8, 26, 15, 0, 0)\n",
    "timezone_name = \"Asia/Karachi\"\n",
    "localized_dt = localize_datetime(naive_dt, timezone_name)\n",
    "print(f\"Localized datetime: {localized_dt}\")\n",
    "\n"
   ]
  },
  {
   "cell_type": "code",
   "execution_count": 30,
   "id": "f4a7c793",
   "metadata": {},
   "outputs": [
    {
     "name": "stdout",
     "output_type": "stream",
     "text": [
      "Current time in Asia/Karachi: 2024-08-13 00:07:30.012521+05:00\n",
      "Time after 5 hours: 2024-08-13 05:07:30.012521+05:00\n"
     ]
    }
   ],
   "source": [
    "# Create a function that takes a timezone name and a number of hours as input, and prints the current time plus\n",
    "# the specified hours in that timezone\n",
    "\n",
    "from datetime import datetime, timedelta\n",
    "import pytz\n",
    "\n",
    "def add_hours_to_current_time(timezone_name, hours_to_add):\n",
    "    timezone = pytz.timezone(timezone_name)\n",
    "    current_time = datetime.now(timezone)\n",
    "    future_time = current_time + timedelta(hours=hours_to_add)\n",
    "    print(f\"Current time in {timezone_name}: {current_time}\")\n",
    "    print(f\"Time after {hours_to_add} hours: {future_time}\")\n",
    "\n",
    "# Example usage\n",
    "timezone_name = \"Asia/Karachi\"\n",
    "hours_to_add = 5\n",
    "add_hours_to_current_time(timezone_name, hours_to_add)\n"
   ]
  },
  {
   "cell_type": "code",
   "execution_count": 31,
   "id": "4ffb984a",
   "metadata": {},
   "outputs": [
    {
     "ename": "OverflowError",
     "evalue": "date value out of range",
     "output_type": "error",
     "traceback": [
      "\u001b[1;31m---------------------------------------------------------------------------\u001b[0m",
      "\u001b[1;31mOverflowError\u001b[0m                             Traceback (most recent call last)",
      "Cell \u001b[1;32mIn[31], line 21\u001b[0m\n\u001b[0;32m     18\u001b[0m     \u001b[38;5;28mprint\u001b[39m(\u001b[38;5;124mf\u001b[39m\u001b[38;5;124m\"\u001b[39m\u001b[38;5;124mDaylight Saving Time starts on: \u001b[39m\u001b[38;5;132;01m{\u001b[39;00mdt\u001b[38;5;132;01m}\u001b[39;00m\u001b[38;5;124m\"\u001b[39m)\n\u001b[0;32m     20\u001b[0m \u001b[38;5;66;03m# Example usage\u001b[39;00m\n\u001b[1;32m---> 21\u001b[0m find_dst_start(\u001b[38;5;241m2022\u001b[39m, \u001b[38;5;124m\"\u001b[39m\u001b[38;5;124mUS/Pacific\u001b[39m\u001b[38;5;124m\"\u001b[39m)\n",
      "Cell \u001b[1;32mIn[31], line 16\u001b[0m, in \u001b[0;36mfind_dst_start\u001b[1;34m(year, timezone_name)\u001b[0m\n\u001b[0;32m     13\u001b[0m dt \u001b[38;5;241m=\u001b[39m tz\u001b[38;5;241m.\u001b[39mlocalize(datetime(year, \u001b[38;5;241m1\u001b[39m, \u001b[38;5;241m1\u001b[39m, \u001b[38;5;241m0\u001b[39m, \u001b[38;5;241m0\u001b[39m, \u001b[38;5;241m0\u001b[39m))\n\u001b[0;32m     15\u001b[0m \u001b[38;5;28;01mwhile\u001b[39;00m \u001b[38;5;129;01mnot\u001b[39;00m \u001b[38;5;28mbool\u001b[39m(dt\u001b[38;5;241m.\u001b[39mdst()):\n\u001b[1;32m---> 16\u001b[0m     dt \u001b[38;5;241m+\u001b[39m\u001b[38;5;241m=\u001b[39m timedelta(days\u001b[38;5;241m=\u001b[39m\u001b[38;5;241m1\u001b[39m)\n\u001b[0;32m     18\u001b[0m \u001b[38;5;28mprint\u001b[39m(\u001b[38;5;124mf\u001b[39m\u001b[38;5;124m\"\u001b[39m\u001b[38;5;124mDaylight Saving Time starts on: \u001b[39m\u001b[38;5;132;01m{\u001b[39;00mdt\u001b[38;5;132;01m}\u001b[39;00m\u001b[38;5;124m\"\u001b[39m)\n",
      "\u001b[1;31mOverflowError\u001b[0m: date value out of range"
     ]
    }
   ],
   "source": [
    "# Write a program that calculates the date and time of the daylight saving start in the year 2022.\n",
    "# take timezone \"US/Pacific\"\n",
    "# take string date as \"2022-01-01 00:00:00\"\n",
    "# hint: use\n",
    "# bool(tz_aware_dt.dst()) == True # dst activated\n",
    "# bool(tz_aware_dt.dst()) == False # dst not activated\n",
    "\n",
    "from datetime import datetime, timedelta\n",
    "import pytz\n",
    "\n",
    "def find_dst_start(year, timezone_name):\n",
    "    tz = pytz.timezone(timezone_name)\n",
    "    dt = tz.localize(datetime(year, 1, 1, 0, 0, 0))\n",
    "\n",
    "    while not bool(dt.dst()):\n",
    "        dt += timedelta(days=1)\n",
    "    \n",
    "    print(f\"Daylight Saving Time starts on: {dt}\")\n",
    "\n",
    "# Example usage\n",
    "find_dst_start(2022, \"US/Pacific\")\n",
    "\n"
   ]
  },
  {
   "cell_type": "code",
   "execution_count": 32,
   "id": "213f7caf",
   "metadata": {},
   "outputs": [
    {
     "ename": "OverflowError",
     "evalue": "date value out of range",
     "output_type": "error",
     "traceback": [
      "\u001b[1;31m---------------------------------------------------------------------------\u001b[0m",
      "\u001b[1;31mOverflowError\u001b[0m                             Traceback (most recent call last)",
      "Cell \u001b[1;32mIn[32], line 24\u001b[0m\n\u001b[0;32m     21\u001b[0m     \u001b[38;5;28mprint\u001b[39m(\u001b[38;5;124mf\u001b[39m\u001b[38;5;124m\"\u001b[39m\u001b[38;5;124mDaylight Saving Time ends on: \u001b[39m\u001b[38;5;132;01m{\u001b[39;00mdt\u001b[38;5;132;01m}\u001b[39;00m\u001b[38;5;124m\"\u001b[39m)\n\u001b[0;32m     23\u001b[0m \u001b[38;5;66;03m# Example usage\u001b[39;00m\n\u001b[1;32m---> 24\u001b[0m find_dst_end(\u001b[38;5;241m2022\u001b[39m, \u001b[38;5;124m\"\u001b[39m\u001b[38;5;124mUS/Pacific\u001b[39m\u001b[38;5;124m\"\u001b[39m)\n",
      "Cell \u001b[1;32mIn[32], line 16\u001b[0m, in \u001b[0;36mfind_dst_end\u001b[1;34m(year, timezone_name)\u001b[0m\n\u001b[0;32m     13\u001b[0m dt \u001b[38;5;241m=\u001b[39m tz\u001b[38;5;241m.\u001b[39mlocalize(datetime(year, \u001b[38;5;241m1\u001b[39m, \u001b[38;5;241m1\u001b[39m, \u001b[38;5;241m0\u001b[39m, \u001b[38;5;241m0\u001b[39m, \u001b[38;5;241m0\u001b[39m))\n\u001b[0;32m     15\u001b[0m \u001b[38;5;28;01mwhile\u001b[39;00m \u001b[38;5;129;01mnot\u001b[39;00m \u001b[38;5;28mbool\u001b[39m(dt\u001b[38;5;241m.\u001b[39mdst()):\n\u001b[1;32m---> 16\u001b[0m     dt \u001b[38;5;241m+\u001b[39m\u001b[38;5;241m=\u001b[39m timedelta(days\u001b[38;5;241m=\u001b[39m\u001b[38;5;241m1\u001b[39m)\n\u001b[0;32m     18\u001b[0m \u001b[38;5;28;01mwhile\u001b[39;00m \u001b[38;5;28mbool\u001b[39m(dt\u001b[38;5;241m.\u001b[39mdst()):\n\u001b[0;32m     19\u001b[0m     dt \u001b[38;5;241m+\u001b[39m\u001b[38;5;241m=\u001b[39m timedelta(days\u001b[38;5;241m=\u001b[39m\u001b[38;5;241m1\u001b[39m)\n",
      "\u001b[1;31mOverflowError\u001b[0m: date value out of range"
     ]
    }
   ],
   "source": [
    "# Write a program that calculates the date and time of the daylight saving end in the year 2022.\n",
    "# take timezone \"US/Pacific\"\n",
    "# take string date as \"2022-01-01 00:00:00\"\n",
    "# hint: use\n",
    "# bool(tz_aware_dt.dst()) == True # dst activated\n",
    "# bool(tz_aware_dt.dst()) == False # dst not activated\n",
    "\n",
    "from datetime import datetime, timedelta\n",
    "import pytz\n",
    "\n",
    "def find_dst_end(year, timezone_name):\n",
    "    tz = pytz.timezone(timezone_name)\n",
    "    dt = tz.localize(datetime(year, 1, 1, 0, 0, 0))\n",
    "\n",
    "    while not bool(dt.dst()):\n",
    "        dt += timedelta(days=1)\n",
    "    \n",
    "    while bool(dt.dst()):\n",
    "        dt += timedelta(days=1)\n",
    "    \n",
    "    print(f\"Daylight Saving Time ends on: {dt}\")\n",
    "\n",
    "# Example usage\n",
    "find_dst_end(2022, \"US/Pacific\")\n",
    "\n"
   ]
  },
  {
   "cell_type": "code",
   "execution_count": 33,
   "id": "1ae2c3b7",
   "metadata": {},
   "outputs": [
    {
     "name": "stdout",
     "output_type": "stream",
     "text": [
      "Meeting time in UK: 30 August 2023 10:00 AM\n",
      "Meeting time in US: 30 August 2023 05:00 AM\n",
      "Meeting time in Saudi Arabia: 30 August 2023 12:00 PM\n",
      "Meeting time in Pakistan: 30 August 2023 02:00 PM\n"
     ]
    }
   ],
   "source": [
    "# Design a program that helps schedule a meeting across different timezones. The program should take the meeting time\n",
    "# in one timezone and display the corresponding times in other timezones.\n",
    "# consider three countries: UK, US, Saudi Arab and Pakistan\n",
    "# consider the meeting time is: 30 August 2023 at 2 PM Pakistan time\n",
    "\n",
    "\n",
    "from datetime import datetime\n",
    "import pytz\n",
    "\n",
    "def schedule_meeting(meeting_time_str, from_tz_name):\n",
    "    from_tz = pytz.timezone(from_tz_name)\n",
    "    meeting_time = from_tz.localize(datetime.strptime(meeting_time_str, \"%d %B %Y %I %p\"))\n",
    "\n",
    "    timezones = {\n",
    "        \"UK\": \"Europe/London\",\n",
    "        \"US\": \"America/New_York\",\n",
    "        \"Saudi Arabia\": \"Asia/Riyadh\",\n",
    "        \"Pakistan\": \"Asia/Karachi\"\n",
    "    }\n",
    "\n",
    "    for country, tz_name in timezones.items():\n",
    "        tz = pytz.timezone(tz_name)\n",
    "        local_time = meeting_time.astimezone(tz)\n",
    "        print(f\"Meeting time in {country}: {local_time.strftime('%d %B %Y %I:%M %p')}\")\n",
    "\n",
    "# Example usage\n",
    "schedule_meeting(\"30 August 2023 2 PM\", \"Asia/Karachi\")\n"
   ]
  },
  {
   "cell_type": "code",
   "execution_count": 34,
   "id": "502e683a",
   "metadata": {},
   "outputs": [
    {
     "name": "stdout",
     "output_type": "stream",
     "text": [
      "Enter the start date (YYYY-MM-DD HH:MM:SS): 2024-05-12 03:45:09\n",
      "Enter the end date (YYYY-MM-DD HH:MM:SS): 2024-07-14 03:33:07\n",
      "Enter the timezone: 5+ GMT\n"
     ]
    },
    {
     "ename": "UnknownTimeZoneError",
     "evalue": "'5+ GMT'",
     "output_type": "error",
     "traceback": [
      "\u001b[1;31m---------------------------------------------------------------------------\u001b[0m",
      "\u001b[1;31mUnknownTimeZoneError\u001b[0m                      Traceback (most recent call last)",
      "Cell \u001b[1;32mIn[34], line 57\u001b[0m\n\u001b[0;32m     54\u001b[0m             \u001b[38;5;28mprint\u001b[39m(\u001b[38;5;124m\"\u001b[39m\u001b[38;5;124mTime slot is not available.\u001b[39m\u001b[38;5;124m\"\u001b[39m)\n\u001b[0;32m     56\u001b[0m \u001b[38;5;66;03m# Example usage\u001b[39;00m\n\u001b[1;32m---> 57\u001b[0m booking_system()\n",
      "Cell \u001b[1;32mIn[34], line 43\u001b[0m, in \u001b[0;36mbooking_system\u001b[1;34m()\u001b[0m\n\u001b[0;32m     40\u001b[0m end_date_str \u001b[38;5;241m=\u001b[39m \u001b[38;5;28minput\u001b[39m(\u001b[38;5;124m\"\u001b[39m\u001b[38;5;124mEnter the end date (YYYY-MM-DD HH:MM:SS): \u001b[39m\u001b[38;5;124m\"\u001b[39m)\n\u001b[0;32m     41\u001b[0m timezone_name \u001b[38;5;241m=\u001b[39m \u001b[38;5;28minput\u001b[39m(\u001b[38;5;124m\"\u001b[39m\u001b[38;5;124mEnter the timezone: \u001b[39m\u001b[38;5;124m\"\u001b[39m)\n\u001b[1;32m---> 43\u001b[0m timezone \u001b[38;5;241m=\u001b[39m pytz\u001b[38;5;241m.\u001b[39mtimezone(timezone_name)\n\u001b[0;32m     44\u001b[0m start_local \u001b[38;5;241m=\u001b[39m timezone\u001b[38;5;241m.\u001b[39mlocalize(datetime\u001b[38;5;241m.\u001b[39mstrptime(start_date_str, \u001b[38;5;124m\"\u001b[39m\u001b[38;5;124m%\u001b[39m\u001b[38;5;124mY-\u001b[39m\u001b[38;5;124m%\u001b[39m\u001b[38;5;124mm-\u001b[39m\u001b[38;5;132;01m%d\u001b[39;00m\u001b[38;5;124m \u001b[39m\u001b[38;5;124m%\u001b[39m\u001b[38;5;124mH:\u001b[39m\u001b[38;5;124m%\u001b[39m\u001b[38;5;124mM:\u001b[39m\u001b[38;5;124m%\u001b[39m\u001b[38;5;124mS\u001b[39m\u001b[38;5;124m\"\u001b[39m))\n\u001b[0;32m     45\u001b[0m end_local \u001b[38;5;241m=\u001b[39m timezone\u001b[38;5;241m.\u001b[39mlocalize(datetime\u001b[38;5;241m.\u001b[39mstrptime(end_date_str, \u001b[38;5;124m\"\u001b[39m\u001b[38;5;124m%\u001b[39m\u001b[38;5;124mY-\u001b[39m\u001b[38;5;124m%\u001b[39m\u001b[38;5;124mm-\u001b[39m\u001b[38;5;132;01m%d\u001b[39;00m\u001b[38;5;124m \u001b[39m\u001b[38;5;124m%\u001b[39m\u001b[38;5;124mH:\u001b[39m\u001b[38;5;124m%\u001b[39m\u001b[38;5;124mM:\u001b[39m\u001b[38;5;124m%\u001b[39m\u001b[38;5;124mS\u001b[39m\u001b[38;5;124m\"\u001b[39m))\n",
      "File \u001b[1;32m~\\anaconda3\\Lib\\site-packages\\pytz\\__init__.py:188\u001b[0m, in \u001b[0;36mtimezone\u001b[1;34m(zone)\u001b[0m\n\u001b[0;32m    186\u001b[0m             fp\u001b[38;5;241m.\u001b[39mclose()\n\u001b[0;32m    187\u001b[0m     \u001b[38;5;28;01melse\u001b[39;00m:\n\u001b[1;32m--> 188\u001b[0m         \u001b[38;5;28;01mraise\u001b[39;00m UnknownTimeZoneError(zone)\n\u001b[0;32m    190\u001b[0m \u001b[38;5;28;01mreturn\u001b[39;00m _tzinfo_cache[zone]\n",
      "\u001b[1;31mUnknownTimeZoneError\u001b[0m: '5+ GMT'"
     ]
    }
   ],
   "source": [
    "# Booking System\n",
    "# Design a booking system where users specify a start datetime, end datetime, and timezone. Implement a function that checks whether a specified time slot is available.\n",
    "# if timeslot is available then store the start_date and end_date in the list of objects i.e\n",
    "\"\"\"\n",
    "booking_storage = [\n",
    "  {\n",
    "    \"start_date\": \"\",\n",
    "    \"end_date\": \"\"\n",
    "  }\n",
    "]\n",
    "\"\"\"\n",
    "# hint 1: store dates in booking_storage in UTC format i.e pytz.utc\n",
    "# hint 2: use for loop, the loop should run 5 times. ask user input inside the loop\n",
    "\n",
    "# instruction to test your program:\n",
    "# first iteration of loop\n",
    "# give input \"2023-08-26 18:00:00\" as start_date and \"2023-08-26 19:00:00\" as end_date and \"Asia/Karachi\" as timezone\n",
    "\n",
    "# second iteration of loop\n",
    "# give input \"2023-08-26 16:00:00\" as start_date and \"2023-08-26 17:00:00\" as end_date and \"Asia/Riyadh\" as timezone\n",
    "# above program should not accept this booking as the slot is already booked by the first iteration\n",
    "\n",
    "from datetime import datetime\n",
    "import pytz\n",
    "\n",
    "def is_slot_available(start_utc, end_utc, booking_storage):\n",
    "    for booking in booking_storage:\n",
    "        if (start_utc < booking[\"end_date\"]) and (end_utc > booking[\"start_date\"]):\n",
    "            return False\n",
    "    return True\n",
    "\n",
    "def store_booking(start_utc, end_utc, booking_storage):\n",
    "    booking_storage.append({\"start_date\": start_utc, \"end_date\": end_utc})\n",
    "\n",
    "def booking_system():\n",
    "    booking_storage = []\n",
    "\n",
    "    for _ in range(5):\n",
    "        start_date_str = input(\"Enter the start date (YYYY-MM-DD HH:MM:SS): \")\n",
    "        end_date_str = input(\"Enter the end date (YYYY-MM-DD HH:MM:SS): \")\n",
    "        timezone_name = input(\"Enter the timezone: \")\n",
    "\n",
    "        timezone = pytz.timezone(timezone_name)\n",
    "        start_local = timezone.localize(datetime.strptime(start_date_str, \"%Y-%m-%d %H:%M:%S\"))\n",
    "        end_local = timezone.localize(datetime.strptime(end_date_str, \"%Y-%m-%d %H:%M:%S\"))\n",
    "\n",
    "        start_utc = start_local.astimezone(pytz.utc)\n",
    "        end_utc = end_local.astimezone(pytz.utc)\n",
    "\n",
    "        if is_slot_available(start_utc, end_utc, booking_storage):\n",
    "            store_booking(start_utc, end_utc, booking_storage)\n",
    "            print(\"Booking confirmed.\")\n",
    "        else:\n",
    "            print(\"Time slot is not available.\")\n",
    "\n",
    "# Example usage\n",
    "booking_system()\n"
   ]
  },
  {
   "cell_type": "code",
   "execution_count": null,
   "id": "a8253f37",
   "metadata": {},
   "outputs": [],
   "source": []
  }
 ],
 "metadata": {
  "kernelspec": {
   "display_name": "Python 3 (ipykernel)",
   "language": "python",
   "name": "python3"
  },
  "language_info": {
   "codemirror_mode": {
    "name": "ipython",
    "version": 3
   },
   "file_extension": ".py",
   "mimetype": "text/x-python",
   "name": "python",
   "nbconvert_exporter": "python",
   "pygments_lexer": "ipython3",
   "version": "3.11.5"
  }
 },
 "nbformat": 4,
 "nbformat_minor": 5
}
