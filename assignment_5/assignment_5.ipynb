{
 "cells": [
  {
   "cell_type": "code",
   "execution_count": 7,
   "id": "9d8ac8ac",
   "metadata": {},
   "outputs": [
    {
     "name": "stdout",
     "output_type": "stream",
     "text": [
      "Temperatures for week 2 : [25, 27, 29, 30, 28, 26, 27]\n"
     ]
    }
   ],
   "source": [
    "# Extracting Sublist from a List of Temperatures\n",
    "# Objective: Given a list of daily temperatures for a month, extract the temperatures for a specific week (e.g., week 2).\n",
    "# temperatures = [22, 24, 20, 25, 23, 26, 24, 25, 27, 29, 30, 28, 26, 27, 24, 23, 22, 21, 25, 24, 26, 27, 29, 28, 26, 25, 24, 23, 22, 21]\n",
    "\n",
    "temperatures = [22, 24, 20, 25, 23, 26, 24, 25, 27, 29, 30, 28, 26, 27, 24, 23, 22, 21, 25, 24, 26, 27, 29, 28, 26, 25, 24, 23, 22, 21]\n",
    "\n",
    "week_number = 2\n",
    "\n",
    "start_index = (week_number - 1) * 7\n",
    "end_index = start_index + 7\n",
    "\n",
    "week_temperatures = temperatures[start_index:end_index]\n",
    "\n",
    "print(\"Temperatures for week\", week_number, \":\", week_temperatures)\n"
   ]
  },
  {
   "cell_type": "code",
   "execution_count": 1,
   "id": "3c07d423",
   "metadata": {},
   "outputs": [
    {
     "name": "stdout",
     "output_type": "stream",
     "text": [
      "Extracted substring: brown\n"
     ]
    }
   ],
   "source": [
    "# Extracting a Substring from a Sentence\n",
    "# Objective: Given a sentence, extract and print a specific word using string slicing.\n",
    "# sentence = \"The quick brown fox jumps over the lazy dog\"\n",
    "# extract third word \"brow\"\n",
    "\n",
    "sentence = \"The quick brown fox jumps over the lazy dog\"\n",
    "\n",
    "words = sentence.split()\n",
    "\n",
    "word_index = 2\n",
    "\n",
    "word = words[word_index]\n",
    "\n",
    "substring = word[:5]\n",
    "\n",
    "print(\"Extracted substring:\", substring)\n"
   ]
  },
  {
   "cell_type": "code",
   "execution_count": 2,
   "id": "260615a9",
   "metadata": {},
   "outputs": [
    {
     "name": "stdout",
     "output_type": "stream",
     "text": [
      "['Red', 'Blue', 'Green']\n"
     ]
    }
   ],
   "source": [
    "# Extracting a Sublist of Favorite Colors\n",
    "# Objective: Given a list of favorite colors, extract a sublist of the first three colors using list slicing.\n",
    "# favorite_colors = [\"Red\", \"Blue\", \"Green\", \"Yellow\", \"Purple\", \"Orange\"]\n",
    "# extract first three colors\n",
    "\n",
    "favorite_colors = [\"Red\", \"Blue\", \"Green\", \"Yellow\", \"Purple\", \"Orange\"]\n",
    "print(favorite_colors[:3])\n",
    "\n",
    "# Extract the first three colors using list slicing\n",
    "# first_three_colors = favorite_colors[:3] can also use like this"
   ]
  },
  {
   "cell_type": "code",
   "execution_count": 4,
   "id": "883024c1",
   "metadata": {},
   "outputs": [
    {
     "name": "stdout",
     "output_type": "stream",
     "text": [
      "The list is  empty.\n"
     ]
    }
   ],
   "source": [
    "# Write a Python program to check if a list is empty or not.\n",
    "\n",
    "my_list = []\n",
    "\n",
    "if not my_list:\n",
    "    print(\"The list is  empty.\")\n",
    "else:\n",
    "    print(\"The list is not empty.\")\n"
   ]
  },
  {
   "cell_type": "code",
   "execution_count": 11,
   "id": "7147d178",
   "metadata": {},
   "outputs": [
    {
     "name": "stdout",
     "output_type": "stream",
     "text": [
      "1\n",
      "2\n",
      "3\n",
      "4\n",
      "5\n",
      "6\n",
      "7\n",
      "8\n",
      "9\n",
      "10\n"
     ]
    }
   ],
   "source": [
    "# 1. output the numbers from 1 to 10 using range function and for loop\n",
    "\n",
    "\n",
    "for i in range(1,11):\n",
    "    print(i)"
   ]
  },
  {
   "cell_type": "code",
   "execution_count": 13,
   "id": "ed294b38",
   "metadata": {},
   "outputs": [
    {
     "name": "stdout",
     "output_type": "stream",
     "text": [
      "35\n",
      "36\n",
      "37\n",
      "38\n",
      "39\n",
      "40\n",
      "41\n",
      "42\n",
      "43\n",
      "44\n",
      "45\n",
      "46\n",
      "47\n",
      "48\n",
      "49\n",
      "50\n"
     ]
    }
   ],
   "source": [
    "# 2. output the numbers from 35 to 50 using range function and for loop\n",
    "\n",
    "for i in range(35,51):\n",
    "    print(i)"
   ]
  },
  {
   "cell_type": "code",
   "execution_count": 18,
   "id": "0e9c67c1",
   "metadata": {},
   "outputs": [
    {
     "name": "stdout",
     "output_type": "stream",
     "text": [
      "-25\n",
      "-24\n",
      "-23\n",
      "-22\n",
      "-21\n",
      "-20\n",
      "-19\n",
      "-18\n",
      "-17\n",
      "-16\n",
      "-15\n"
     ]
    }
   ],
   "source": [
    "# 3. output the numbers from -15 to -25 using range function and for loop\n",
    "\n",
    "\n",
    "for i in range(-25,-14):\n",
    "    print(i)"
   ]
  },
  {
   "cell_type": "code",
   "execution_count": 20,
   "id": "a1d6f82d",
   "metadata": {},
   "outputs": [
    {
     "name": "stdout",
     "output_type": "stream",
     "text": [
      "-10\n",
      "-9\n",
      "-8\n",
      "-7\n",
      "-6\n",
      "-5\n",
      "-4\n",
      "-3\n",
      "-2\n",
      "-1\n",
      "0\n",
      "1\n",
      "2\n",
      "3\n",
      "4\n",
      "5\n"
     ]
    }
   ],
   "source": [
    "# 4. output the numbers from 5 to -10 using range function and for loop\n",
    "\n",
    "\n",
    "for i in range(-10,6):\n",
    "    print(i)"
   ]
  },
  {
   "cell_type": "code",
   "execution_count": 24,
   "id": "f2c29f15",
   "metadata": {},
   "outputs": [
    {
     "name": "stdout",
     "output_type": "stream",
     "text": [
      "0\n",
      "3\n",
      "6\n",
      "9\n",
      "12\n",
      "15\n",
      "18\n",
      "21\n",
      "24\n",
      "27\n",
      "30\n",
      "33\n",
      "36\n",
      "39\n",
      "42\n",
      "45\n",
      "48\n"
     ]
    }
   ],
   "source": [
    "# 5. output the numbers from 0 to 50 incremented by 3 using range function and for loop\n",
    "\n",
    "\n",
    "for i in range(0,50,3):\n",
    "    print(i)"
   ]
  },
  {
   "cell_type": "code",
   "execution_count": 1,
   "id": "43d453b5",
   "metadata": {},
   "outputs": [
    {
     "name": "stdout",
     "output_type": "stream",
     "text": [
      "2 x 1 = 2\n",
      "2 x 2 = 4\n",
      "2 x 3 = 6\n",
      "2 x 4 = 8\n",
      "2 x 5 = 10\n",
      "2 x 6 = 12\n",
      "2 x 7 = 14\n",
      "2 x 8 = 16\n",
      "2 x 9 = 18\n",
      "2 x 10 = 20\n"
     ]
    }
   ],
   "source": [
    "# 6.  Write a program to Generate Multiplication Table of 2 using range function and for loop\n",
    "\n",
    "number = 2\n",
    "\n",
    "for i in range(1, 11):\n",
    "    print(f\"{number} x {i} = {number * i}\")\n"
   ]
  },
  {
   "cell_type": "code",
   "execution_count": 4,
   "id": "1f35ded3",
   "metadata": {},
   "outputs": [
    {
     "name": "stdout",
     "output_type": "stream",
     "text": [
      "The sum of all the items in the list is: 15\n"
     ]
    }
   ],
   "source": [
    "# 7. Write a Python program to sum all the items in a list use for loop. consider the list [3, 5, 2, 1, 4]\n",
    "\n",
    "\n",
    "numbers = [3, 5, 2, 1, 4]\n",
    "\n",
    "total_sum = 0\n",
    "\n",
    "for num in numbers:\n",
    "    total_sum += num\n",
    "\n",
    "print(\"The sum of all the items in the list is:\", total_sum)\n",
    "\n"
   ]
  },
  {
   "cell_type": "code",
   "execution_count": 12,
   "id": "c1d21dfb",
   "metadata": {},
   "outputs": [
    {
     "name": "stdout",
     "output_type": "stream",
     "text": [
      "the largest number is : 5\n"
     ]
    }
   ],
   "source": [
    "# 8. Write a Python program to get the largest number from a list and use for loop consider the list [3, 5, 2, 1, 4]\n",
    "# output should be 5\n",
    "\n",
    "num = [3, 5, 2, 1, 4]\n",
    "\n",
    "total = 0\n",
    "\n",
    "for n in num:\n",
    "    if n > total:\n",
    "        total = n\n",
    "    \n",
    "print(\"the largest number is :\", total)   "
   ]
  },
  {
   "cell_type": "code",
   "execution_count": 14,
   "id": "1fec15cc",
   "metadata": {},
   "outputs": [
    {
     "name": "stdout",
     "output_type": "stream",
     "text": [
      "155\n"
     ]
    }
   ],
   "source": [
    "# Exercise 1: Sum of Elements in a List\n",
    "# Objective: Write a Python program that calculates the sum of all elements in a given list.\n",
    "# Example list\n",
    "# numbers = [10, 20, 30, 40, 50]\n",
    "\n",
    "numbers = [10, 20, 30, 40, 50]\n",
    "\n",
    "for n in numbers:\n",
    "    total += n\n",
    "    \n",
    "print(total)"
   ]
  },
  {
   "cell_type": "code",
   "execution_count": 2,
   "id": "39cbd9bc",
   "metadata": {},
   "outputs": [
    {
     "name": "stdout",
     "output_type": "stream",
     "text": [
      "even 12\n",
      "odd 7\n",
      "odd 9\n",
      "even 24\n",
      "even 18\n",
      "odd 5\n",
      "odd 3\n",
      "even 20\n"
     ]
    }
   ],
   "source": [
    "# Count Even and Odd Numbers in a List\n",
    "# Objective: Write a Python program that counts the number of even and odd numbers in a given list.\n",
    "# Example list\n",
    "# numbers = [12, 7, 9, 24, 18, 5, 3, 20]\n",
    "\n",
    "numbers = [12, 7, 9, 24, 18, 5, 3, 20]\n",
    "\n",
    "for n in numbers: \n",
    "    if n % 2 == 0:\n",
    "        print('even' ,n)\n",
    "    else:\n",
    "        print('odd', n)"
   ]
  },
  {
   "cell_type": "code",
   "execution_count": 2,
   "id": "fc9af4dc",
   "metadata": {},
   "outputs": [
    {
     "name": "stdout",
     "output_type": "stream",
     "text": [
      "The first three colors are: ['Red', 'Blue', 'Green']\n"
     ]
    }
   ],
   "source": [
    "# Extracting a Sublist of Favorite Colors\n",
    "# Objective: Given a list of favorite colors, extract a sublist of the first three colors using list slicing.\n",
    "# favorite_colors = [\"Red\", \"Blue\", \"Green\", \"Yellow\", \"Purple\", \"Orange\"]\n",
    "# extract first three colors\n",
    "\n",
    "# Initialize the list of favorite colors\n",
    "favorite_colors = [\"Red\", \"Blue\", \"Green\", \"Yellow\", \"Purple\", \"Orange\"]\n",
    "\n",
    "first_three_colors =  favorite_colors[:3]\n",
    "\n",
    "# Print the sublist of the first three colors\n",
    "print(\"The first three colors are:\", first_three_colors)"
   ]
  },
  {
   "cell_type": "code",
   "execution_count": 3,
   "id": "4baef1c7",
   "metadata": {},
   "outputs": [
    {
     "name": "stdout",
     "output_type": "stream",
     "text": [
      "Index: 0 Element: apple\n",
      "Index: 1 Element: banana\n",
      "Index: 2 Element: 1\n",
      "Index: 3 Element: 1.34\n",
      "Index: 4 Element: True\n"
     ]
    }
   ],
   "source": [
    "# Print List Elements with Their Indices\n",
    "# Objective: Write a Python program that prints each element of a list along with its index.\n",
    "# Example list\n",
    "# fruits = [\"apple\", \"banana\", \"cherry\", \"date\", \"elderberry\"]\n",
    "# output should like\n",
    "# \"Index: 0 Element: apple\"\n",
    "# \"Index: 1 Element: banana\"\n",
    "# \"Index: 2 Element: cherry\"\n",
    "\n",
    "# Initialize the list of fruits\n",
    "fruits = [\"apple\", \"banana\", 1, 1.34 , True]\n",
    "\n",
    "# Loop through each element in the list using enumerate to get both index and element\n",
    "for index, fruit in enumerate(fruits):\n",
    "    print(f\"Index: {index} Element: {fruit}\")\n"
   ]
  },
  {
   "cell_type": "code",
   "execution_count": 7,
   "id": "08960987",
   "metadata": {},
   "outputs": [
    {
     "name": "stdout",
     "output_type": "stream",
     "text": [
      "List of even numbers from 1 to 20: [2, 4, 6, 8, 10, 12, 14, 16, 18, 20]\n"
     ]
    }
   ],
   "source": [
    "# Initialize the original list\n",
    "a = [1, 2, 3, 4, 5, 6, 7, 8, 9, 10, 11, 12, 13, 14, 15, 16, 17, 18, 19, 20]\n",
    "\n",
    "\n",
    "even_numbers = []\n",
    "\n",
    "for n in a:\n",
    "    \n",
    "    if n % 2 == 0:\n",
    "        even_numbers.append(n)\n",
    "\n",
    "print(\"List of even numbers from 1 to 20:\", even_numbers)\n"
   ]
  },
  {
   "cell_type": "code",
   "execution_count": 4,
   "id": "3a851614",
   "metadata": {},
   "outputs": [
    {
     "name": "stdout",
     "output_type": "stream",
     "text": [
      "Common elements between list1 and list2: [4, 5]\n"
     ]
    }
   ],
   "source": [
    "# Initialize the example lists\n",
    "list1 = [1, 2, 3, 4, 5]\n",
    "list2 = [4, 5, 6, 7, 8 ,9]\n",
    "\n",
    "# Initialize an empty list to store common elements\n",
    "common_elements = []\n",
    "\n",
    "# Loop through each element in the first list\n",
    "for element in list1:\n",
    "    # Check if the element is in the second list\n",
    "    if element in list2:\n",
    "        # Add the common element to the common_elements list\n",
    "        common_elements.append(element)\n",
    "\n",
    "# Print the common elements\n",
    "print(\"Common elements between list1 and list2:\", common_elements)\n"
   ]
  },
  {
   "cell_type": "code",
   "execution_count": 10,
   "id": "73ce68d8",
   "metadata": {},
   "outputs": [
    {
     "name": "stdout",
     "output_type": "stream",
     "text": [
      "name of Fruite : apple lenght of fruit : 5\n",
      "name of Fruite : banana lenght of fruit : 6\n",
      "name of Fruite : cherry lenght of fruit : 6\n",
      "name of Fruite : date lenght of fruit : 4\n"
     ]
    }
   ],
   "source": [
    "# Find the Length of Each String in a List\n",
    "# Objective: Write a Python program that finds and prints the length of each string in a given list.\n",
    "# Example list\n",
    "# strings = [\"apple\", \"banana\", \"cherry\", \"date\"]\n",
    "\n",
    "strings = [\"apple\", \"banana\", \"cherry\", \"date\"]\n",
    "\n",
    "for s in strings:\n",
    "    print('name of Fruite :' , s , 'lenght of fruit :',len(s))"
   ]
  },
  {
   "cell_type": "code",
   "execution_count": 12,
   "id": "3e7306fc",
   "metadata": {},
   "outputs": [
    {
     "name": "stdout",
     "output_type": "stream",
     "text": [
      "The product of all the items in the list is: 360\n"
     ]
    }
   ],
   "source": [
    "# 1. Write a Python program to multiply all the items in a list and use for loop. consider the list [3, 5, 2, 1, 4].\n",
    "# output should be 360\n",
    "# hint: use a variable x outside the loop and assign the first value of list\n",
    "# inside the loop * the value of x with the local variable of loop\n",
    "# x *= \n",
    "\n",
    "numbers = [3, 5, 2, 1, 4]\n",
    "\n",
    "x = numbers[0]\n",
    "\n",
    "for number in numbers[:]:\n",
    "    x *= number\n",
    "print(\"The product of all the items in the list is:\", x)\n"
   ]
  },
  {
   "cell_type": "code",
   "execution_count": 13,
   "id": "6e7d6d8c",
   "metadata": {},
   "outputs": [
    {
     "name": "stdout",
     "output_type": "stream",
     "text": [
      "0\n",
      "5\n",
      "10\n",
      "15\n",
      "20\n",
      "25\n",
      "30\n",
      "50\n",
      "55\n",
      "60\n",
      "65\n",
      "70\n",
      "75\n",
      "80\n"
     ]
    }
   ],
   "source": [
    "# 2. create a list from 0 to 100 using range function and iterate over the list\n",
    "# display the number that satisfied following conditions\n",
    "# The number must be divisible by 5\n",
    "# If the number is greater than 30 and less than 50 then skip it\n",
    "# If the number is greater than 80, then stop the loop\n",
    "\n",
    "# Create a list from 0 to 100 using range function\n",
    "numbers = list(range(101))\n",
    "\n",
    "# Iterate over the list\n",
    "for number in numbers:\n",
    "    # Check if the number is divisible by 5\n",
    "    if number % 5 == 0:\n",
    "        # Skip numbers greater than 30 and less than 50\n",
    "        if 30 < number < 50:\n",
    "            continue\n",
    "        # Stop the loop if the number is greater than 80\n",
    "        if number > 80:\n",
    "            break\n",
    "        # Print the number if it satisfies all conditions\n",
    "        print(number)\n"
   ]
  },
  {
   "cell_type": "code",
   "execution_count": 14,
   "id": "7956cee0",
   "metadata": {},
   "outputs": [
    {
     "name": "stdout",
     "output_type": "stream",
     "text": [
      "freedom\n",
      "popcorn\n"
     ]
    }
   ],
   "source": [
    "# 3. consider the following list ['cat', 'dog', 'hand', 'freedom', 'jump', 'frog', 'happy', 'popcorn', 'tiger']\n",
    "# display the word that contains character longer than 5\n",
    "# the output should be freedeom and popcorn\n",
    "\n",
    "# Initialize the list of words\n",
    "words = ['cat', 'dog', 'hand', 'freedom', 'jump', 'frog', 'happy', 'popcorn', 'tiger']\n",
    "\n",
    "# Iterate over each word in the list\n",
    "for word in words:\n",
    "    # Check if the length of the word is greater than 5\n",
    "    if len(word) > 5:\n",
    "        # Print the word if it satisfies the condition\n",
    "        print(word)\n"
   ]
  },
  {
   "cell_type": "code",
   "execution_count": 15,
   "id": "1ca93b34",
   "metadata": {},
   "outputs": [
    {
     "name": "stdout",
     "output_type": "stream",
     "text": [
      "Modified list: ['Green', 'White', 'Black']\n"
     ]
    }
   ],
   "source": [
    "# 4. Write a Python program to print a specified list after removing the 0th, 4th and 5th elements using for loop. \n",
    "# Sample List : ['Red', 'Green', 'White', 'Black', 'Pink', 'Yellow'] Expected Output : ['Green', 'White', 'Black']\n",
    "\n",
    "\n",
    "# Initialize the sample list\n",
    "sample_list = ['Red', 'Green', 'White', 'Black', 'Pink', 'Yellow']\n",
    "\n",
    "# Initialize an empty list to store the result\n",
    "result_list = []\n",
    "\n",
    "# Iterate over the index and element of the sample list\n",
    "for index, element in enumerate(sample_list):\n",
    "    # Check if the index is not 0, 4, or 5\n",
    "    if index not in (0, 4, 5):\n",
    "        # Append the element to the result list\n",
    "        result_list.append(element)\n",
    "\n",
    "# Print the result list\n",
    "print(\"Modified list:\", result_list)\n"
   ]
  },
  {
   "cell_type": "code",
   "execution_count": 1,
   "id": "c23e0ecb",
   "metadata": {},
   "outputs": [
    {
     "name": "stdout",
     "output_type": "stream",
     "text": [
      "1\n",
      "3\n",
      "5\n",
      "7\n",
      "9\n",
      "11\n",
      "13\n",
      "15\n",
      "17\n",
      "19\n",
      "21\n",
      "23\n",
      "25\n",
      "27\n",
      "29\n",
      "31\n",
      "33\n",
      "35\n",
      "37\n",
      "39\n",
      "41\n",
      "43\n",
      "45\n",
      "47\n",
      "49\n",
      "51\n",
      "53\n",
      "55\n",
      "57\n",
      "59\n",
      "61\n",
      "63\n",
      "65\n",
      "67\n",
      "69\n",
      "71\n",
      "73\n",
      "75\n",
      "77\n",
      "79\n",
      "81\n",
      "83\n",
      "85\n",
      "87\n",
      "89\n",
      "91\n",
      "93\n",
      "95\n",
      "97\n",
      "99\n"
     ]
    }
   ],
   "source": [
    "# 5. Write a program to display odd numbers only. odd number upto 100\n",
    "# hint use for loop and range function\n",
    "\n",
    "# Display odd numbers up to 100\n",
    "for num in range(1, 101):  # Start at 1, end at 100 (range is exclusive of the last number)\n",
    "    if num % 2 != 0:  # Check if the number is odd\n",
    "        print(num)\n"
   ]
  },
  {
   "cell_type": "code",
   "execution_count": 2,
   "id": "472d05dc",
   "metadata": {},
   "outputs": [
    {
     "name": "stdout",
     "output_type": "stream",
     "text": [
      "First 5 elements: [1, 2, 3, 4, 5]\n",
      "Last 5 elements: [26, 27, 28, 29, 30]\n"
     ]
    }
   ],
   "source": [
    "# 6. List contains 30 elements. Display first 5 and last 5 elements\n",
    "\n",
    "# Sample list with 30 elements\n",
    "my_list = list(range(1, 31))  # This will create a list [1, 2, 3, ..., 30]\n",
    "\n",
    "# Display the first 5 elements\n",
    "print(\"First 5 elements:\", my_list[:5])\n",
    "\n",
    "# Display the last 5 elements\n",
    "print(\"Last 5 elements:\", my_list[-5:])\n"
   ]
  },
  {
   "cell_type": "code",
   "execution_count": 3,
   "id": "8b393633",
   "metadata": {},
   "outputs": [
    {
     "name": "stdout",
     "output_type": "stream",
     "text": [
      "helloworld\n"
     ]
    }
   ],
   "source": [
    "# 7. Display output: helloworld from the list [‘h’, ‘e’, ‘l’, ‘l’, ‘o’, ‘w’, ‘o’, ‘r’, ‘l’, ‘d’]\n",
    "# output should be 'helloworld' in one line\n",
    "\n",
    "# Given list\n",
    "char_list = ['h', 'e', 'l', 'l', 'o', 'w', 'o', 'r', 'l', 'd']\n",
    "\n",
    "# Combine the list elements into a single string\n",
    "output = ''.join(char_list)\n",
    "\n",
    "# Display the output\n",
    "print(output)"
   ]
  },
  {
   "cell_type": "code",
   "execution_count": 4,
   "id": "3c48c99b",
   "metadata": {},
   "outputs": [
    {
     "name": "stdout",
     "output_type": "stream",
     "text": [
      "Updated l2 list: [1, 2, 3, 4, 5]\n"
     ]
    }
   ],
   "source": [
    "# 8. Write a Python program to append a list to the second list.\n",
    "# consider l1 is [1, 2, 3, 4, 5] and l2 is []\n",
    "# using loop add items of l1 in l2\n",
    "\n",
    "# Initial lists\n",
    "l1 = [1, 2, 3, 4, 5]\n",
    "l2 = []\n",
    "\n",
    "# Using a loop to append items of l1 to l2\n",
    "for item in l1:\n",
    "    l2.append(item)\n",
    "\n",
    "# Display the updated l2 list\n",
    "print(\"Updated l2 list:\", l2)"
   ]
  },
  {
   "cell_type": "code",
   "execution_count": 5,
   "id": "3180d465",
   "metadata": {},
   "outputs": [
    {
     "name": "stdout",
     "output_type": "stream",
     "text": [
      "The word 'hi' appears 3 times.\n"
     ]
    }
   ],
   "source": [
    "# 9. consider the list ['hi', 'hello', 'hi', 'good morning', 'hi', 'bye']\n",
    "# use for loop and find the count that how many times the word \"hi\" present in list.\n",
    "# output should be 3\n",
    "\n",
    "# Given list\n",
    "my_list = ['hi', 'hello', 'hi', 'good morning', 'hi', 'bye']\n",
    "\n",
    "# Initialize a counter\n",
    "count = 0\n",
    "\n",
    "# Using a loop to count occurrences of 'hi'\n",
    "for word in my_list:\n",
    "    if word == 'hi':\n",
    "        count += 1\n",
    "\n",
    "# Display the count\n",
    "print(\"The word 'hi' appears\", count, \"times.\")\n"
   ]
  }
 ],
 "metadata": {
  "kernelspec": {
   "display_name": "Python 3 (ipykernel)",
   "language": "python",
   "name": "python3"
  },
  "language_info": {
   "codemirror_mode": {
    "name": "ipython",
    "version": 3
   },
   "file_extension": ".py",
   "mimetype": "text/x-python",
   "name": "python",
   "nbconvert_exporter": "python",
   "pygments_lexer": "ipython3",
   "version": "3.11.5"
  }
 },
 "nbformat": 4,
 "nbformat_minor": 5
}
