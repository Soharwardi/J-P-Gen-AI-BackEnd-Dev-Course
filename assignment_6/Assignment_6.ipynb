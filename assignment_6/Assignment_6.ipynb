{
 "cells": [
  {
   "cell_type": "code",
   "execution_count": 6,
   "id": "e5ea6358",
   "metadata": {},
   "outputs": [
    {
     "name": "stdout",
     "output_type": "stream",
     "text": [
      "{'Alice': 85, 'Bob': 78, 'Charlie': 92, 'Diana': 88, 'Evan': 76}\n",
      "Alice\n",
      "Bob\n",
      "Charlie\n",
      "Diana\n",
      "Evan\n"
     ]
    }
   ],
   "source": [
    "# Create a dictionary named student_scores with the following key-value pairs:\n",
    "# \"Alice\": 85\n",
    "# \"Bob\": 78\n",
    "# \"Charlie\": 92\n",
    "# \"Diana\": 88\n",
    "# \"Evan\": 76\n",
    "\n",
    "student_scores = {\n",
    "     \"Alice\": 85,\n",
    "     \"Bob\": 78,\n",
    "     \"Charlie\": 92,\n",
    "     \"Diana\": 88,\n",
    "     \"Evan\": 76\n",
    "}\n",
    "print(student_scores)"
   ]
  },
  {
   "cell_type": "code",
   "execution_count": 14,
   "id": "e248487a",
   "metadata": {},
   "outputs": [
    {
     "name": "stdout",
     "output_type": "stream",
     "text": [
      "Student: Alice, Score: 85\n",
      "Student: Bob, Score: 78\n",
      "Student: Charlie, Score: 92\n",
      "Student: Diana, Score: 88\n",
      "Student: Evan, Score: 76\n"
     ]
    }
   ],
   "source": [
    "\n",
    "# 1. Write a for loop to iterate through the student_scores dictionary and print each student's name and their score \n",
    "# in the format: Student: [Name], Score: [Score].\n",
    "\n",
    "# for student, i in student_scores.item:\n",
    "#     print(student , i)\n",
    "\n",
    "for student, score in student_scores.items():\n",
    "    print(f\"Student: {student}, Score: {score}\")\n",
    "    \n",
    "# in student_scores.items():\n",
    "# student_scores is the dictionary we created earlier.\n",
    "# .items() is a method that returns a view object displaying a list of dictionary’s key-value tuple pairs. \n",
    "# This means it will return pairs like (\"Alice\", 85), (\"Bob\", 78), and so on."
   ]
  },
  {
   "cell_type": "code",
   "execution_count": 22,
   "id": "c342276b",
   "metadata": {},
   "outputs": [
    {
     "name": "stdout",
     "output_type": "stream",
     "text": [
      "Average Score: 83.8\n"
     ]
    }
   ],
   "source": [
    "# 2. Write a for loop to calculate the average score of the students. Print the average score.\n",
    "\n",
    "total_score = 0\n",
    "for score in student_scores.values():\n",
    "    total_score += score\n",
    "average_score = total_score / len(student_scores)\n",
    "print(f\"Average Score: {average_score}\")\n",
    "\n",
    "# total_score += score\n",
    "# total_score: This is the variable we initialized earlier to 0.\n",
    "# +=: This is an assignment operator that adds the value on the right (in this case, score) \n",
    "# to the variable on the left (total_score) and then stores the result back in total_score.\n",
    "# score: This is the current score from the dictionary that the loop is iterating over.\n",
    "\n",
    "# average_score = total_score / len(student_scores)\n",
    "# average_score: This is a new variable where we will store the calculated average score.\n",
    "# total_score: This is the sum of all the scores, which we calculated in the previous loop.\n",
    "# /: This is the division operator.\n",
    "# len(student_scores):\n",
    "# len() is a function that returns the number of items in an object (in this case,\n",
    "# the number of students in the student_scores dictionary).\n",
    "# student_scores is our dictionary containing the students and their scores."
   ]
  },
  {
   "cell_type": "code",
   "execution_count": 23,
   "id": "e29d921d",
   "metadata": {},
   "outputs": [
    {
     "name": "stdout",
     "output_type": "stream",
     "text": [
      "Student Grades: {'Alice': 'B', 'Bob': 'C', 'Charlie': 'A', 'Diana': 'B', 'Evan': 'C'}\n"
     ]
    }
   ],
   "source": [
    "student_grades = {}\n",
    "for student, score in student_scores.items():\n",
    "    if score >= 90:\n",
    "        student_grades[student] = \"A\"\n",
    "    elif score >= 80:\n",
    "        student_grades[student] = \"B\"\n",
    "    elif score >= 70:\n",
    "        student_grades[student] = \"C\"\n",
    "    else:\n",
    "        student_grades[student] = \"D\"\n",
    "\n",
    "print(\"Student Grades:\", student_grades)"
   ]
  },
  {
   "cell_type": "code",
   "execution_count": 24,
   "id": "4b7edf44",
   "metadata": {},
   "outputs": [
    {
     "name": "stdout",
     "output_type": "stream",
     "text": [
      "Updated Student Scores: {'Alice': 90, 'Bob': 83, 'Charlie': 97, 'Diana': 93, 'Evan': 81}\n"
     ]
    }
   ],
   "source": [
    "# 4. Modify the student_scores dictionary by adding 5 bonus points to each student's score. \n",
    "# Print the updated student_scores dictionary.\n",
    "\n",
    "for student in student_scores:\n",
    "    student_scores[student] += 5\n",
    "\n",
    "print(\"Updated Student Scores:\", student_scores)"
   ]
  },
  {
   "cell_type": "code",
   "execution_count": 1,
   "id": "7ed79bfd",
   "metadata": {},
   "outputs": [],
   "source": [
    "# Create a dictionary named employee_data with the following key-value pairs:\n",
    "# \"John\": 55000\n",
    "# \"Emma\": 60000\n",
    "# \"Harry\": 70000\n",
    "# \"Sophia\": 65000\n",
    "# \"Mike\": 48000\n",
    "\n",
    "employee_data = {\n",
    "    \"John\": 55000,\n",
    "    \"Emma\": 60000,\n",
    "    \"Harry\": 70000,\n",
    "    \"Sophia\": 65000,\n",
    "    \"Mike\": 48000\n",
    "}"
   ]
  },
  {
   "cell_type": "code",
   "execution_count": 2,
   "id": "84af416c",
   "metadata": {},
   "outputs": [
    {
     "name": "stdout",
     "output_type": "stream",
     "text": [
      "\n",
      "\n",
      "Harry\n",
      "Sophia\n",
      "\n"
     ]
    }
   ],
   "source": [
    "# 1. Write a for loop with an if statement to identify employees who earn more than $60,000. Print their names.\n",
    "\n",
    "# Loop through the employee_data dictionary\n",
    "for employee, salary in employee_data.items():\n",
    "    # Multiplying the salary by 0 to get 0 if it's less than 60,000 and by 1 if it's greater\n",
    "    print((employee) * (salary > 60000))\n",
    "    \n",
    "# employee * (salary > 60000):\n",
    "# If the salary is greater than $60,000, the expression becomes employee * 1, which would simply be the employee's name\n",
    "# (string) repeated once.\n",
    "# If the salary is less than or equal to $60,000, the expression becomes employee * 0, \n",
    "# which results in an empty string ('') because any string multiplied by 0 results in an empty string.\n"
   ]
  },
  {
   "cell_type": "code",
   "execution_count": 3,
   "id": "8390b503",
   "metadata": {},
   "outputs": [
    {
     "name": "stdout",
     "output_type": "stream",
     "text": [
      "Updated Employee Data: {'John': 60500.0, 'Emma': 66000.0, 'Harry': 77000.0, 'Sophia': 71500.0, 'Mike': 52800.0}\n"
     ]
    }
   ],
   "source": [
    "# 2. Write a for loop to increase the salary of each employee by 10%. Update the dictionary accordingly.\n",
    "\n",
    "\n",
    "# Loop through the employee_data dictionary\n",
    "for employee in employee_data:\n",
    "    # Increase the salary by 10% and round to 2 decimal places\n",
    "    employee_data[employee] = round(employee_data[employee] * 1.10, 2)\n",
    "\n",
    "# Print the updated employee_data dictionary to see the changes\n",
    "print(\"Updated Employee Data:\", employee_data)\n",
    "\n"
   ]
  },
  {
   "cell_type": "code",
   "execution_count": 35,
   "id": "04ecc155",
   "metadata": {},
   "outputs": [
    {
     "name": "stdout",
     "output_type": "stream",
     "text": [
      "{'The Great Gatsby': 4, '1984': 6, 'To Kill a Mockingbird': 3, 'The Catcher in the Rye': 5, 'Moby Dick': 2}\n"
     ]
    }
   ],
   "source": [
    "# Create a dictionary named library_books with the following key-value pairs:\n",
    "# \"The Great Gatsby\": 4\n",
    "# \"1984\": 6\n",
    "# \"To Kill a Mockingbird\": 3\n",
    "# \"The Catcher in the Rye\": 5\n",
    "# \"Moby Dick\": 2\n",
    "\n",
    "library_books = {\n",
    "    \"The Great Gatsby\": 4,\n",
    "    \"1984\": 6,\n",
    "    \"To Kill a Mockingbird\": 3,\n",
    "    \"The Catcher in the Rye\": 5,\n",
    "    \"Moby Dick\": 2\n",
    "}\n",
    "\n",
    "print(library_books)"
   ]
  },
  {
   "cell_type": "code",
   "execution_count": 36,
   "id": "e94d1aa4",
   "metadata": {},
   "outputs": [
    {
     "name": "stdout",
     "output_type": "stream",
     "text": [
      "Updated Library Books: {'The Great Gatsby': 6, '1984': 8, 'To Kill a Mockingbird': 5, 'The Catcher in the Rye': 7, 'Moby Dick': 4}\n"
     ]
    }
   ],
   "source": [
    "# Write a for loop to add 2 more copies to each book. Update the dictionary accordingly.\n",
    "\n",
    "# Loop through the library_books dictionary\n",
    "for book in library_books:\n",
    "    # Add 2 more copies to each book\n",
    "    library_books[book] += 2\n",
    "\n",
    "# Print the updated dictionary to see the changes\n",
    "print(\"Updated Library Books:\", library_books)"
   ]
  },
  {
   "cell_type": "code",
   "execution_count": 37,
   "id": "f776da5e",
   "metadata": {},
   "outputs": [
    {
     "name": "stdout",
     "output_type": "stream",
     "text": [
      "Total Number of Books in the Library: 30\n"
     ]
    }
   ],
   "source": [
    "# Write a for loop to calculate the total number of books in the library. Print the total count.\n",
    "\n",
    "# Initialize a variable to keep the total count of books\n",
    "total_books = 0\n",
    "\n",
    "# Loop through the library_books dictionary\n",
    "for copies in library_books.values():\n",
    "    # Add the number of copies of each book to the total count\n",
    "    total_books += copies\n",
    "\n",
    "# Print the total number of books\n",
    "print(\"Total Number of Books in the Library:\", total_books)"
   ]
  },
  {
   "cell_type": "code",
   "execution_count": 38,
   "id": "f92110e5",
   "metadata": {},
   "outputs": [
    {
     "name": "stdout",
     "output_type": "stream",
     "text": [
      "[{'name': 'The Great Gatsby', 'quantity': 4, 'stock': 'Available'}, {'name': '1984', 'quantity': 6, 'stock': 'Popular'}, {'name': 'To Kill a Mockingbird', 'quantity': 3, 'stock': 'Available'}, {'name': 'Moby Dick', 'quantity': 2, 'stock': 'Limited'}]\n"
     ]
    }
   ],
   "source": [
    "# consider the list of dicts\n",
    "# book_list = [{\"name\": \"The Great Gatsby\", \"quantity\": 4}, {\"name\": \"1984\", \"quantity\": 6}, {\"name\": \"To Kill a Mockingbird\", \"quantity\": 3}, {\"name\": \"Moby Dick\", \"quantity\": 2}]\n",
    "# Write a for loop to assign one more detail \"stock\" based on the number of copies available:\n",
    "# Copies >= 5: \"Popular\"\n",
    "# Copies >= 3 and < 5: \"Available\"\n",
    "# Copies < 3: \"Limited\"\n",
    "# Store these stock categories in a same dict i.e book_list.\n",
    "\n",
    "\n",
    "# Given list of dictionaries\n",
    "book_list = [\n",
    "    {\"name\": \"The Great Gatsby\", \"quantity\": 4},\n",
    "    {\"name\": \"1984\", \"quantity\": 6},\n",
    "    {\"name\": \"To Kill a Mockingbird\", \"quantity\": 3},\n",
    "    {\"name\": \"Moby Dick\", \"quantity\": 2}\n",
    "]\n",
    "\n",
    "# Loop through the list of dictionaries\n",
    "for book in book_list:\n",
    "    # Determine the stock category based on the quantity of copies\n",
    "    if book[\"quantity\"] >= 5:\n",
    "        book[\"stock\"] = \"Popular\"\n",
    "    elif book[\"quantity\"] >= 3:\n",
    "        book[\"stock\"] = \"Available\"\n",
    "    else:\n",
    "        book[\"stock\"] = \"Limited\"\n",
    "\n",
    "# Print the updated book_list to see the changes\n",
    "print(book_list)\n"
   ]
  },
  {
   "cell_type": "code",
   "execution_count": 40,
   "id": "db9635ce",
   "metadata": {},
   "outputs": [
    {
     "name": "stdout",
     "output_type": "stream",
     "text": [
      "Alice's English Score: 78\n",
      "Bob's Class: 10\n",
      "Charlie's Math Score: 92\n",
      "Diana's Average Score: 83.0\n",
      "Student: John, Score: Math, Score: 50\n",
      "Student: John, Score: Science, Score: 60\n",
      "Student: John, Score: English, Score: 60\n",
      "Updated Students Dictionary: {'Alice': {'Subjects': ['Math', 'Science', 'English'], 'Scores': [85, 90, 78], 'Class': 10}, 'Bob': {'Subjects': ['Math', 'Science', 'English'], 'Scores': [75, 80, 88], 'Class': 10}, 'Charlie': {'Subjects': ['Math', 'Science', 'English'], 'Scores': [92, 89, 94], 'Class': 11}, 'Diana': {'Subjects': ['Math', 'Science', 'English'], 'Scores': [88, 76, 85], 'Class': 11}, 'John': {'Subjects': ['Math', 'Science', 'English'], 'Scores': [50, 60, 60], 'Class': 11}, 'New Student': {'Subjects': ['History', 'Math'], 'Scores': [88, 92], 'Class': 12}}\n",
      "Updated Data for John: {'Subjects': ['Math', 'Science', 'English', 'History'], 'Scores': [50, 60, 60, 70], 'Class': 11}\n"
     ]
    }
   ],
   "source": [
    "# Given the dict\n",
    "\n",
    "students = {\n",
    "    \"Alice\": {\n",
    "                \"Subjects\": [\"Math\", \"Science\", \"English\"],\n",
    "                \"Scores\": [85, 90, 78],\n",
    "                \"Class\": 10\n",
    "            },\n",
    "    \"Bob\": {\n",
    "        \"Subjects\": [\"Math\", \"Science\", \"English\"],\n",
    "        \"Scores\": [75, 80, 88],\n",
    "        \"Class\": 10\n",
    "    },\n",
    "    \"Charlie\": {\n",
    "        \"Subjects\": [\"Math\", \"Science\", \"English\"],\n",
    "        \"Scores\": [92, 89, 94],\n",
    "        \"Class\": 11\n",
    "    },\n",
    "    \"Diana\": {\n",
    "        \"Subjects\": [\"Math\", \"Science\", \"English\"],\n",
    "        \"Scores\": [88, 76, 85],\n",
    "        \"Class\": 11\n",
    "    },\n",
    "    \"John\": {\n",
    "        \"Subjects\": [\"Math\", \"Science\", \"English\"],\n",
    "        \"Scores\": [50, 60, 60],\n",
    "        \"Class\": 11\n",
    "    }\n",
    "}\n",
    "\n",
    "\n",
    "# 1. display Alice English Score\n",
    "# 2. display Bob Class\n",
    "# 3. display Charlie Math Score\n",
    "# 4. display Diana's avg score\n",
    "# 5. display John's all subject name and score with format: Student: [Name], Score: [Subject], Score: [Score].\n",
    "# 6. Add new Student and its subject, score and class in same dict i.e students\n",
    "# 7. add new subject and its score in John\n",
    "\n",
    "print(\"Alice's English Score:\", students[\"Alice\"][\"Scores\"][students[\"Alice\"][\"Subjects\"].index(\"English\")])\n",
    "print(\"Bob's Class:\", students[\"Bob\"][\"Class\"])\n",
    "print(\"Charlie's Math Score:\", students[\"Charlie\"][\"Scores\"][students[\"Charlie\"][\"Subjects\"].index(\"Math\")])\n",
    "# Calculate the average score for Diana\n",
    "diana_scores = students[\"Diana\"][\"Scores\"]\n",
    "average_score_diana = sum(diana_scores) / len(diana_scores)\n",
    "print(\"Diana's Average Score:\", average_score_diana)\n",
    "# Loop through John's subjects and scores\n",
    "for subject, score in zip(students[\"John\"][\"Subjects\"], students[\"John\"][\"Scores\"]):\n",
    "    print(f\"Student: John, Score: {subject}, Score: {score}\")\n",
    "# Add a new student to the dictionary\n",
    "students[\"New Student\"] = {\n",
    "    \"Subjects\": [\"History\", \"Math\"],\n",
    "    \"Scores\": [88, 92],\n",
    "    \"Class\": 12\n",
    "}\n",
    "\n",
    "# Print the updated dictionary\n",
    "print(\"Updated Students Dictionary:\", students)\n",
    "# Add a new subject and score to John's existing data\n",
    "students[\"John\"][\"Subjects\"].append(\"History\")\n",
    "students[\"John\"][\"Scores\"].append(70)\n",
    "\n",
    "# Print the updated data for John\n",
    "print(\"Updated Data for John:\", students[\"John\"])\n"
   ]
  }
 ],
 "metadata": {
  "kernelspec": {
   "display_name": "Python 3 (ipykernel)",
   "language": "python",
   "name": "python3"
  },
  "language_info": {
   "codemirror_mode": {
    "name": "ipython",
    "version": 3
   },
   "file_extension": ".py",
   "mimetype": "text/x-python",
   "name": "python",
   "nbconvert_exporter": "python",
   "pygments_lexer": "ipython3",
   "version": "3.11.5"
  }
 },
 "nbformat": 4,
 "nbformat_minor": 5
}
