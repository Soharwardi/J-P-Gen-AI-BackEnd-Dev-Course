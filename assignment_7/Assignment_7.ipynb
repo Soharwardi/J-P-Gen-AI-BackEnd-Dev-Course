{
 "cells": [
  {
   "cell_type": "code",
   "execution_count": 4,
   "id": "561d0850",
   "metadata": {},
   "outputs": [
    {
     "name": "stdout",
     "output_type": "stream",
     "text": [
      "100\n",
      "200\n",
      "300\n",
      "400\n"
     ]
    }
   ],
   "source": [
    "# loop\n",
    "# Write a program to display index and the values (both) of a list using for loop. consider a list l = [100, 200, 300, 400]\n",
    "\n",
    "# Define the list\n",
    "l = [100, 200, 300, 400]\n",
    "\n",
    "# Loop through the list with index and value\n",
    "for index, value in enumerate(l):\n",
    "    print(\"Index:\", index, \"Value:\", value)\n"
   ]
  },
  {
   "cell_type": "code",
   "execution_count": 6,
   "id": "cef75530",
   "metadata": {},
   "outputs": [
    {
     "name": "stdout",
     "output_type": "stream",
     "text": [
      "{'a': 1, 'b': 2, 'c': 1, 'd': 2, 'e': 1, 'g': 1, 'f': 1, 'h': 1}\n"
     ]
    }
   ],
   "source": [
    "# Write a program that find common values between 2 lists and also tells how many times the common value occurs.\n",
    "# consider the list l1 = ['a', 'b', 'c', 'd'] and l2 = ['e', 'b', 'g', 'd', 'f', 'h']\n",
    "# output:\n",
    "# {\"a\": 1, \"b\": 2, \"c\": 1, \"d\": 2, \"e\": 1, \"f\": 1, \"g\": 1, \"h\": 1}\n",
    "# hint: use nested loop\n",
    "\n",
    "\n",
    "# Initialize the lists\n",
    "l1 = ['a', 'b', 'c', 'd']\n",
    "l2 = ['e', 'b', 'g', 'd', 'f', 'h']\n",
    "\n",
    "# Initialize an empty dictionary to store the count of each element\n",
    "count_dict = {}\n",
    "\n",
    "# Combine both lists and count elements\n",
    "for item in l1 + l2:\n",
    "    count_dict[item] = count_dict.get(item, 0) + 1\n",
    "\n",
    "# Print the result\n",
    "print(count_dict)\n"
   ]
  },
  {
   "cell_type": "code",
   "execution_count": 7,
   "id": "6309f3f4",
   "metadata": {},
   "outputs": [
    {
     "name": "stdout",
     "output_type": "stream",
     "text": [
      "The total number of digits is: 4\n"
     ]
    }
   ],
   "source": [
    "# consider the number 2783, the number consists of 4 digits.\n",
    "# Count the total number of digits in a number using while loop.\n",
    "# instruction (hint):\n",
    "# x = 2783\n",
    "# counter = 0\n",
    "# run while loop as long as x becomes 0\n",
    "# increment the counter inside while loop\n",
    "# divide x by 10 using floor division syntax \"//\"\n",
    "\n",
    "# Initialize the number\n",
    "x = 2783\n",
    "\n",
    "# Initialize a counter to keep track of the number of digits\n",
    "counter = 0\n",
    "\n",
    "# Run the while loop as long as x is not 0\n",
    "while x != 0:\n",
    "    # Increment the counter by 1\n",
    "    counter += 1\n",
    "    \n",
    "    # Divide x by 10 using floor division to remove the last digit\n",
    "    x = x // 10\n",
    "\n",
    "# Print the total number of digits\n",
    "print(\"The total number of digits is:\", counter)\n"
   ]
  },
  {
   "cell_type": "code",
   "execution_count": 1,
   "id": "ba64c4b2",
   "metadata": {},
   "outputs": [
    {
     "name": "stdout",
     "output_type": "stream",
     "text": [
      "Enter something (enter 0 to stop): l\n",
      "You entered: l\n",
      "Enter something (enter 0 to stop): '\n",
      "You entered: '\n",
      "Enter something (enter 0 to stop): 0\n"
     ]
    }
   ],
   "source": [
    "# Write a program that takes user input and display it. The program keep ask user the input until user enters “0”\n",
    "\n",
    "\n",
    "while True:\n",
    "    # Take user input\n",
    "    user_input = input(\"Enter something (enter 0 to stop): \")\n",
    "    \n",
    "    # Check if the input is \"0\" to stop the loop\n",
    "    if user_input == \"0\":\n",
    "        break\n",
    "    \n",
    "    # Display the user's input\n",
    "    print(\"You entered:\", user_input)\n",
    "    \n"
   ]
  },
  {
   "cell_type": "code",
   "execution_count": 11,
   "id": "6a6173b0",
   "metadata": {},
   "outputs": [
    {
     "name": "stdout",
     "output_type": "stream",
     "text": [
      "Enter a number: 7\n",
      "Enter a number: 7\n",
      "Enter a number: 7\n",
      "Enter a number: 7\n",
      "Enter a number: 6\n",
      "The sum of all values is: 34\n"
     ]
    }
   ],
   "source": [
    "# Write a program and ask user to enter number, 5 times using while loop. store each value in list.\n",
    "# calculate the sum of all values in a list\n",
    "\n",
    "# Initialize an empty list to store the numbers\n",
    "numbers = []\n",
    "\n",
    "# Initialize a counter to keep track of the number of inputs\n",
    "counter = 0\n",
    "\n",
    "# Use a while loop to ask for input 5 times\n",
    "while counter < 5:\n",
    "    # Ask the user to enter a number\n",
    "    num = int(input(\"Enter a number: \"))\n",
    "    \n",
    "    # Append the entered number to the list\n",
    "    numbers.append(num)\n",
    "    \n",
    "    # Increment the counter\n",
    "    counter += 1\n",
    "\n",
    "# Calculate the sum of all values in the list\n",
    "total_sum = sum(numbers)\n",
    "\n",
    "# Display the sum\n",
    "print(\"The sum of all values is:\", total_sum)"
   ]
  },
  {
   "cell_type": "code",
   "execution_count": 12,
   "id": "b57af7d4",
   "metadata": {},
   "outputs": [
    {
     "name": "stdout",
     "output_type": "stream",
     "text": [
      "Enter a name (or type 'END' to stop): what\n",
      "You entered: what\n",
      "Enter a name (or type 'END' to stop): y\n",
      "You entered: y\n",
      "Enter a name (or type 'END' to stop): end\n",
      "You entered: end\n",
      "Enter a name (or type 'END' to stop): END\n",
      "I am done.\n"
     ]
    }
   ],
   "source": [
    "# Write a program to ask for a name until the user enters END. Print the name each time. When you are done, print \"I am done.\"\n",
    "\n",
    "while True:\n",
    "    # Ask the user to enter a name\n",
    "    name = input(\"Enter a name (or type 'END' to stop): \")\n",
    "    \n",
    "    # Check if the user entered \"END\"\n",
    "    if name == \"END\":\n",
    "        break\n",
    "    \n",
    "    # Print the entered name\n",
    "    print(\"You entered:\", name)\n",
    "\n",
    "# Print the final message\n",
    "print(\"I am done.\")"
   ]
  },
  {
   "cell_type": "code",
   "execution_count": 13,
   "id": "36a2f9b8",
   "metadata": {},
   "outputs": [
    {
     "name": "stdout",
     "output_type": "stream",
     "text": [
      "113350\n"
     ]
    }
   ],
   "source": [
    "# consider the list l1 [11, 33, 50]. use for loop to output the result like \"113350\"\n",
    "\n",
    "\n",
    "# Initialize the list\n",
    "l1 = [11, 33, 50]\n",
    "\n",
    "# Initialize an empty string to store the result\n",
    "result = \"\"\n",
    "\n",
    "# Use a for loop to iterate over the list\n",
    "for number in l1:\n",
    "    # Convert each number to a string and concatenate it to result\n",
    "    result += str(number)\n",
    "\n",
    "# Print the final concatenated result\n",
    "print(result)\n"
   ]
  },
  {
   "cell_type": "code",
   "execution_count": 14,
   "id": "3ac65767",
   "metadata": {},
   "outputs": [
    {
     "name": "stdout",
     "output_type": "stream",
     "text": [
      "freedom\n",
      "popcorn\n"
     ]
    }
   ],
   "source": [
    "# consider the following list ['cat', 'dog', 'hand', 'freedom', 'jump', 'frog', 'happy', 'popcorn', 'tiger']\n",
    "# display the word that contains character longer than 5\n",
    "# the output should be freedeom and popcorn\n",
    "\n",
    "# Initialize the list of words\n",
    "words = ['cat', 'dog', 'hand', 'freedom', 'jump', 'frog', 'happy', 'popcorn', 'tiger']\n",
    "\n",
    "# Use a for loop to iterate over each word in the list\n",
    "for word in words:\n",
    "    # Check if the length of the word is greater than 5\n",
    "    if len(word) > 5:\n",
    "        # Print the word\n",
    "        print(word)\n"
   ]
  },
  {
   "cell_type": "code",
   "execution_count": 15,
   "id": "96e85916",
   "metadata": {},
   "outputs": [
    {
     "name": "stdout",
     "output_type": "stream",
     "text": [
      "Name: Alice\n",
      "Age: 12\n"
     ]
    }
   ],
   "source": [
    "# Write a program to create a function that takes two arguments, name and age. print them inside function.\n",
    "\n",
    "# Define the function\n",
    "def print_name_and_age(name, age):\n",
    "    # Print the name and age\n",
    "    print(\"Name:\", name)\n",
    "    print(\"Age:\", age)\n",
    "\n",
    "# Example usage of the function\n",
    "print_name_and_age(\"Alice\", 12)\n"
   ]
  },
  {
   "cell_type": "code",
   "execution_count": 16,
   "id": "ff6ba295",
   "metadata": {},
   "outputs": [
    {
     "name": "stdout",
     "output_type": "stream",
     "text": [
      "Employee Name: John\n",
      "Salary: 9000\n",
      "Employee Name: Alice\n",
      "Salary: 12000\n"
     ]
    }
   ],
   "source": [
    "# Write a program to create a function show_employee() using the following conditions.\n",
    "# It should accept the employee’s name and salary and display both.\n",
    "# If the salary is missing in the function call then assign default value 9000 to salary\n",
    "\n",
    "# Define the function with a default value for salary\n",
    "def show_employee(name, salary=9000):\n",
    "    # Print the employee's name and salary\n",
    "    print(\"Employee Name:\", name)\n",
    "    print(\"Salary:\", salary)\n",
    "\n",
    "# Example usage of the function\n",
    "show_employee(\"John\")\n",
    "show_employee(\"Alice\", 12000)"
   ]
  },
  {
   "cell_type": "code",
   "execution_count": 17,
   "id": "537c50f6",
   "metadata": {},
   "outputs": [
    {
     "name": "stdout",
     "output_type": "stream",
     "text": [
      "[4, 8, 10, 12]\n"
     ]
    }
   ],
   "source": [
    "# Write function that accepts different values as parameters and returns a list\n",
    "# consider the below varables\n",
    "# a = 4\n",
    "# b = 8\n",
    "# c = 10\n",
    "# d = 12\n",
    "# pass above values to the function and return the list\n",
    "# output: [4, 8, 10, 12]\n",
    "\n",
    "# Define the function that takes variable number of arguments\n",
    "def create_list(*args):\n",
    "    # Convert the arguments to a list and return it\n",
    "    return list(args)\n",
    "\n",
    "# Variables\n",
    "a = 4\n",
    "b = 8\n",
    "c = 10\n",
    "d = 12\n",
    "\n",
    "# Call the function with the variables and store the result\n",
    "result_list = create_list(a, b, c, d)\n",
    "\n",
    "# Print the result\n",
    "print(result_list)\n"
   ]
  },
  {
   "cell_type": "code",
   "execution_count": 18,
   "id": "6da8b4df",
   "metadata": {},
   "outputs": [
    {
     "name": "stdout",
     "output_type": "stream",
     "text": [
      "5 kilometers is equal to 3.11 miles\n"
     ]
    }
   ],
   "source": [
    "# Write a function called km_to_miles that takes kilometers as a parameter, converts it into miles and returns the result.\n",
    "\n",
    "# Define the function to convert kilometers to miles\n",
    "def km_to_miles(kilometers):\n",
    "    # Conversion factor from kilometers to miles\n",
    "    conversion_factor = 0.621371\n",
    "    # Convert kilometers to miles\n",
    "    miles = kilometers * conversion_factor\n",
    "    # Return the result\n",
    "    return miles\n",
    "\n",
    "# Example usage of the function\n",
    "km = 5\n",
    "miles = km_to_miles(km)\n",
    "\n",
    "# Print the result\n",
    "print(f\"{km} kilometers is equal to {miles:.2f} miles\")\n"
   ]
  },
  {
   "cell_type": "code",
   "execution_count": 2,
   "id": "3ba8941c",
   "metadata": {},
   "outputs": [
    {
     "data": {
      "text/plain": [
       "False"
      ]
     },
     "execution_count": 2,
     "metadata": {},
     "output_type": "execute_result"
    }
   ],
   "source": [
    "# Write a function called is_divisable_by_11 that takes an integer as an parameter and returns whether it is divisible\n",
    "# by 11 or not.\n",
    "\n",
    "def is_divisible_by_11(number):\n",
    "    return number % 11 == 0\n",
    "is_divisible_by_11(2)"
   ]
  },
  {
   "cell_type": "code",
   "execution_count": 6,
   "id": "aed4fd9e",
   "metadata": {},
   "outputs": [
    {
     "data": {
      "text/plain": [
       "21"
      ]
     },
     "execution_count": 6,
     "metadata": {},
     "output_type": "execute_result"
    }
   ],
   "source": [
    "# Write a function called get_highest that takes 2 numbers as parameters and returns the\n",
    "# highest of the 2 numbers.\n",
    "\n",
    "def get_highest(num1, num2):\n",
    "    if num1 > num2:\n",
    "        return num1\n",
    "    else:\n",
    "        return num2\n",
    "get_highest(2,21)"
   ]
  },
  {
   "cell_type": "code",
   "execution_count": 2,
   "id": "1eb74030",
   "metadata": {},
   "outputs": [
    {
     "data": {
      "text/plain": [
       "11200"
      ]
     },
     "execution_count": 2,
     "metadata": {},
     "output_type": "execute_result"
    }
   ],
   "source": [
    "# Write a function called fuel_cost that takes 2 numbers as parameter \"distance\" as required arg \n",
    "# and \"fuel_per_liter\" as optional arg that has default value to 280. \n",
    "# The function should return the cost in Rs.\n",
    "\n",
    "def fuel_cost(distance, fuel_per_liter=280):\n",
    "    # Assuming the cost calculation is based on a fixed rate per liter\n",
    "    # You can adjust the formula as needed\n",
    "    return distance * fuel_per_liter\n",
    "fuel_cost()"
   ]
  },
  {
   "cell_type": "code",
   "execution_count": 6,
   "id": "a918dff2",
   "metadata": {},
   "outputs": [
    {
     "data": {
      "text/plain": [
       "False"
      ]
     },
     "execution_count": 6,
     "metadata": {},
     "output_type": "execute_result"
    }
   ],
   "source": [
    "# Write a function called is_valid_email  that takes an email address as an argument and returns True/False depending on whether it is a valid email address.\n",
    "# Check rules:\n",
    "# Must contain at least 1 character before the at symbol\n",
    "# Must contain an @ symbol\n",
    "# Must have at-least 1 character after the @ symbol and before the period(.)\n",
    "# Must contain at least 1 character after the last period(.).\n",
    "# Maximum 256 characters\n",
    "# Must start with a letter or a number\n",
    "\n",
    "def is_valid_email(email):\n",
    "    # Rule 1: Maximum length of 256 characters\n",
    "    if len(email) > 256:\n",
    "        return False\n",
    "    \n",
    "    # Rule 2: Must contain exactly one '@' symbol\n",
    "    if email.count('@') != 1:\n",
    "        return False\n",
    "    \n",
    "    # Rule 3: Must start with a letter or a number\n",
    "    if not (email[0].isalnum()):\n",
    "        return False\n",
    "    \n",
    "    # Split the email into local and domain parts\n",
    "    local, domain = email.split('@')\n",
    "    \n",
    "    # Rule 4: Must contain at least 1 character before the '@' symbol\n",
    "    if len(local) == 0:\n",
    "        return False\n",
    "    \n",
    "    # Rule 5: Must have at least 1 character after the '@' symbol and before the period (.)\n",
    "    if '.' not in domain:\n",
    "        return False\n",
    "    domain_name, domain_ext = domain.rsplit('.', 1)\n",
    "    if len(domain_name) == 0:\n",
    "        return False\n",
    "    \n",
    "    # Rule 6: Must contain at least 1 character after the last period (.)\n",
    "    if len(domain_ext) == 0:\n",
    "        return False\n",
    "    \n",
    "    return True\n",
    "\n",
    "is_valid_email(\"yasot.com\")"
   ]
  },
  {
   "cell_type": "code",
   "execution_count": 9,
   "id": "0f819cd9",
   "metadata": {},
   "outputs": [
    {
     "name": "stdout",
     "output_type": "stream",
     "text": [
      "Current Inventory:\n",
      "ID: 1, Name: Apples, Price: 50, Quantity: 10\n",
      "ID: 2, Name: Bananas, Price: 30, Quantity: 5\n",
      "ID: 3, Name: Oranges, Price: 40, Quantity: 8\n",
      "ID: 4, Name: Milk, Price: 60, Quantity: 7\n",
      "ID: 5, Name: Bread, Price: 20, Quantity: 12\n",
      "\n",
      "Enter 'done' to finish adding items or 'buy' to purchase an item: 9\n",
      "Invalid input. Please try again.\n",
      "Current Inventory:\n",
      "ID: 1, Name: Apples, Price: 50, Quantity: 10\n",
      "ID: 2, Name: Bananas, Price: 30, Quantity: 5\n",
      "ID: 3, Name: Oranges, Price: 40, Quantity: 8\n",
      "ID: 4, Name: Milk, Price: 60, Quantity: 7\n",
      "ID: 5, Name: Bread, Price: 20, Quantity: 12\n",
      "\n",
      "Enter 'done' to finish adding items or 'buy' to purchase an item: 9\n",
      "Invalid input. Please try again.\n",
      "Current Inventory:\n",
      "ID: 1, Name: Apples, Price: 50, Quantity: 10\n",
      "ID: 2, Name: Bananas, Price: 30, Quantity: 5\n",
      "ID: 3, Name: Oranges, Price: 40, Quantity: 8\n",
      "ID: 4, Name: Milk, Price: 60, Quantity: 7\n",
      "ID: 5, Name: Bread, Price: 20, Quantity: 12\n",
      "\n",
      "Enter 'done' to finish adding items or 'buy' to purchase an item: 9\n",
      "Invalid input. Please try again.\n",
      "Current Inventory:\n",
      "ID: 1, Name: Apples, Price: 50, Quantity: 10\n",
      "ID: 2, Name: Bananas, Price: 30, Quantity: 5\n",
      "ID: 3, Name: Oranges, Price: 40, Quantity: 8\n",
      "ID: 4, Name: Milk, Price: 60, Quantity: 7\n",
      "ID: 5, Name: Bread, Price: 20, Quantity: 12\n",
      "\n",
      "Enter 'done' to finish adding items or 'buy' to purchase an item: 9\n",
      "Invalid input. Please try again.\n",
      "Current Inventory:\n",
      "ID: 1, Name: Apples, Price: 50, Quantity: 10\n",
      "ID: 2, Name: Bananas, Price: 30, Quantity: 5\n",
      "ID: 3, Name: Oranges, Price: 40, Quantity: 8\n",
      "ID: 4, Name: Milk, Price: 60, Quantity: 7\n",
      "ID: 5, Name: Bread, Price: 20, Quantity: 12\n",
      "\n",
      "Enter 'done' to finish adding items or 'buy' to purchase an item: 9\n",
      "Invalid input. Please try again.\n",
      "Current Inventory:\n",
      "ID: 1, Name: Apples, Price: 50, Quantity: 10\n",
      "ID: 2, Name: Bananas, Price: 30, Quantity: 5\n",
      "ID: 3, Name: Oranges, Price: 40, Quantity: 8\n",
      "ID: 4, Name: Milk, Price: 60, Quantity: 7\n",
      "ID: 5, Name: Bread, Price: 20, Quantity: 12\n",
      "\n",
      "Enter 'done' to finish adding items or 'buy' to purchase an item: done\n",
      "\n",
      "Checkout for my store:\n"
     ]
    }
   ],
   "source": [
    "# Take a variable store i.e\n",
    "# Store = {“name”: “my store”, “inventory”: [], “orders”: []}\n",
    "\n",
    "# Add 5 items in the inventory using a function “add_item”\n",
    "# id, name, price and quantity\n",
    "\n",
    "# Take user input unless it says “done”\n",
    "# Display user updated inventory items every time\n",
    "# Ask user to type id of the item to purchase or type “done” to checkout\n",
    "# Each time only 1 quantity will by subtracted from the item\n",
    "\n",
    "# Functions: add_item_in_inventory, add_item_in_basket(), checkout()\n",
    "# On checkout, print “{quantity} {item} sold in {store}”\n",
    "\n",
    "\n",
    "# Initialize store\n",
    "store = {\n",
    "    \"name\": \"my store\",\n",
    "    \"inventory\": [],\n",
    "    \"orders\": []\n",
    "}\n",
    "\n",
    "def add_item_to_inventory(id, name, price, quantity):\n",
    "    store['inventory'].append({\n",
    "        'id': id,\n",
    "        'name': name,\n",
    "        'price': price,\n",
    "        'quantity': quantity\n",
    "    })\n",
    "\n",
    "def display_inventory():\n",
    "    print(\"Current Inventory:\")\n",
    "    for item in store['inventory']:\n",
    "        print(f\"ID: {item['id']}, Name: {item['name']}, Price: {item['price']}, Quantity: {item['quantity']}\")\n",
    "\n",
    "def add_item_to_basket(item_id):\n",
    "    for item in store['inventory']:\n",
    "        if item['id'] == item_id and item['quantity'] > 0:\n",
    "            item['quantity'] -= 1\n",
    "            store['orders'].append(item)\n",
    "            print(f\"Added {item['name']} to your basket.\")\n",
    "            return\n",
    "    print(\"Item not found or out of stock.\")\n",
    "\n",
    "def checkout():\n",
    "    print(f\"\\nCheckout for {store['name']}:\")\n",
    "    for item in store['orders']:\n",
    "        print(f\"{item['name']} sold in {store['name']}\")\n",
    "    store['orders'] = []  # Clear the orders after checkout\n",
    "\n",
    "# Add items to the inventory\n",
    "add_item_to_inventory(1, \"Apples\", 50, 10)\n",
    "add_item_to_inventory(2, \"Bananas\", 30, 5)\n",
    "add_item_to_inventory(3, \"Oranges\", 40, 8)\n",
    "add_item_to_inventory(4, \"Milk\", 60, 7)\n",
    "add_item_to_inventory(5, \"Bread\", 20, 12)\n",
    "\n",
    "# Main loop to interact with the user\n",
    "while True:\n",
    "    display_inventory()\n",
    "    action = input(\"\\nEnter 'done' to finish adding items or 'buy' to purchase an item: \").strip().lower()\n",
    "    if action == \"done\":\n",
    "        break\n",
    "    elif action == \"buy\":\n",
    "        item_id = int(input(\"Enter the ID of the item you want to purchase: \"))\n",
    "        add_item_to_basket(item_id)\n",
    "    else:\n",
    "        print(\"Invalid input. Please try again.\")\n",
    "\n",
    "# Checkout\n",
    "checkout()\n"
   ]
  },
  {
   "cell_type": "code",
   "execution_count": null,
   "id": "cb5295f9",
   "metadata": {},
   "outputs": [],
   "source": []
  }
 ],
 "metadata": {
  "kernelspec": {
   "display_name": "Python 3 (ipykernel)",
   "language": "python",
   "name": "python3"
  },
  "language_info": {
   "codemirror_mode": {
    "name": "ipython",
    "version": 3
   },
   "file_extension": ".py",
   "mimetype": "text/x-python",
   "name": "python",
   "nbconvert_exporter": "python",
   "pygments_lexer": "ipython3",
   "version": "3.11.5"
  }
 },
 "nbformat": 4,
 "nbformat_minor": 5
}
